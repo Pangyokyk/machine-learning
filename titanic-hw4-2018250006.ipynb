{
 "cells": [
  {
   "cell_type": "code",
   "execution_count": 1,
   "id": "7eefe2e5",
   "metadata": {
    "_cell_guid": "b1076dfc-b9ad-4769-8c92-a6c4dae69d19",
    "_uuid": "8f2839f25d086af736a60e9eeb907d3b93b6e0e5",
    "execution": {
     "iopub.execute_input": "2022-04-11T08:03:55.554846Z",
     "iopub.status.busy": "2022-04-11T08:03:55.553745Z",
     "iopub.status.idle": "2022-04-11T08:03:55.565815Z",
     "shell.execute_reply": "2022-04-11T08:03:55.565137Z",
     "shell.execute_reply.started": "2022-04-11T07:59:11.654565Z"
    },
    "papermill": {
     "duration": 0.079533,
     "end_time": "2022-04-11T08:03:55.565996",
     "exception": false,
     "start_time": "2022-04-11T08:03:55.486463",
     "status": "completed"
    },
    "tags": []
   },
   "outputs": [
    {
     "name": "stdout",
     "output_type": "stream",
     "text": [
      "/kaggle/input/titanic/train.csv\n",
      "/kaggle/input/titanic/test.csv\n",
      "/kaggle/input/titanic/gender_submission.csv\n"
     ]
    }
   ],
   "source": [
    "# This Python 3 environment comes with many helpful analytics libraries installed\n",
    "# It is defined by the kaggle/python Docker image: https://github.com/kaggle/docker-python\n",
    "# For example, here's several helpful packages to load\n",
    "\n",
    "import numpy as np # linear algebra\n",
    "import pandas as pd # data processing, CSV file I/O (e.g. pd.read_csv)\n",
    "\n",
    "# Input data files are available in the read-only \"../input/\" directory\n",
    "# For example, running this (by clicking run or pressing Shift+Enter) will list all files under the input directory\n",
    "\n",
    "import os\n",
    "for dirname, _, filenames in os.walk('/kaggle/input'):\n",
    "    for filename in filenames:\n",
    "        print(os.path.join(dirname, filename))\n",
    "\n",
    "# You can write up to 20GB to the current directory (/kaggle/working/) that gets preserved as output when you create a version using \"Save & Run All\" \n",
    "# You can also write temporary files to /kaggle/temp/, but they won't be saved outside of the current session"
   ]
  },
  {
   "cell_type": "markdown",
   "id": "4ad438fd",
   "metadata": {
    "papermill": {
     "duration": 0.061243,
     "end_time": "2022-04-11T08:03:55.691166",
     "exception": false,
     "start_time": "2022-04-11T08:03:55.629923",
     "status": "completed"
    },
    "tags": []
   },
   "source": [
    "타이타닉 훈련셋과 테스트셋 불러오기"
   ]
  },
  {
   "cell_type": "code",
   "execution_count": 2,
   "id": "b7cff5aa",
   "metadata": {
    "execution": {
     "iopub.execute_input": "2022-04-11T08:03:55.820126Z",
     "iopub.status.busy": "2022-04-11T08:03:55.819477Z",
     "iopub.status.idle": "2022-04-11T08:03:55.845404Z",
     "shell.execute_reply": "2022-04-11T08:03:55.845960Z",
     "shell.execute_reply.started": "2022-04-11T07:59:11.747413Z"
    },
    "papermill": {
     "duration": 0.092926,
     "end_time": "2022-04-11T08:03:55.846169",
     "exception": false,
     "start_time": "2022-04-11T08:03:55.753243",
     "status": "completed"
    },
    "tags": []
   },
   "outputs": [],
   "source": [
    "train = pd.read_csv('../input/titanic/train.csv')\n",
    "test = pd.read_csv('../input/titanic/test.csv')"
   ]
  },
  {
   "cell_type": "markdown",
   "id": "d904f246",
   "metadata": {
    "papermill": {
     "duration": 0.061053,
     "end_time": "2022-04-11T08:03:55.984513",
     "exception": false,
     "start_time": "2022-04-11T08:03:55.923460",
     "status": "completed"
    },
    "tags": []
   },
   "source": [
    "훈련셋 정보 확인"
   ]
  },
  {
   "cell_type": "code",
   "execution_count": 3,
   "id": "fededee6",
   "metadata": {
    "execution": {
     "iopub.execute_input": "2022-04-11T08:03:56.111301Z",
     "iopub.status.busy": "2022-04-11T08:03:56.110376Z",
     "iopub.status.idle": "2022-04-11T08:03:56.133382Z",
     "shell.execute_reply": "2022-04-11T08:03:56.133858Z",
     "shell.execute_reply.started": "2022-04-11T07:59:11.836625Z"
    },
    "papermill": {
     "duration": 0.087693,
     "end_time": "2022-04-11T08:03:56.134025",
     "exception": false,
     "start_time": "2022-04-11T08:03:56.046332",
     "status": "completed"
    },
    "tags": []
   },
   "outputs": [
    {
     "data": {
      "text/html": [
       "<div>\n",
       "<style scoped>\n",
       "    .dataframe tbody tr th:only-of-type {\n",
       "        vertical-align: middle;\n",
       "    }\n",
       "\n",
       "    .dataframe tbody tr th {\n",
       "        vertical-align: top;\n",
       "    }\n",
       "\n",
       "    .dataframe thead th {\n",
       "        text-align: right;\n",
       "    }\n",
       "</style>\n",
       "<table border=\"1\" class=\"dataframe\">\n",
       "  <thead>\n",
       "    <tr style=\"text-align: right;\">\n",
       "      <th></th>\n",
       "      <th>PassengerId</th>\n",
       "      <th>Survived</th>\n",
       "      <th>Pclass</th>\n",
       "      <th>Name</th>\n",
       "      <th>Sex</th>\n",
       "      <th>Age</th>\n",
       "      <th>SibSp</th>\n",
       "      <th>Parch</th>\n",
       "      <th>Ticket</th>\n",
       "      <th>Fare</th>\n",
       "      <th>Cabin</th>\n",
       "      <th>Embarked</th>\n",
       "    </tr>\n",
       "  </thead>\n",
       "  <tbody>\n",
       "    <tr>\n",
       "      <th>0</th>\n",
       "      <td>1</td>\n",
       "      <td>0</td>\n",
       "      <td>3</td>\n",
       "      <td>Braund, Mr. Owen Harris</td>\n",
       "      <td>male</td>\n",
       "      <td>22.0</td>\n",
       "      <td>1</td>\n",
       "      <td>0</td>\n",
       "      <td>A/5 21171</td>\n",
       "      <td>7.2500</td>\n",
       "      <td>NaN</td>\n",
       "      <td>S</td>\n",
       "    </tr>\n",
       "    <tr>\n",
       "      <th>1</th>\n",
       "      <td>2</td>\n",
       "      <td>1</td>\n",
       "      <td>1</td>\n",
       "      <td>Cumings, Mrs. John Bradley (Florence Briggs Th...</td>\n",
       "      <td>female</td>\n",
       "      <td>38.0</td>\n",
       "      <td>1</td>\n",
       "      <td>0</td>\n",
       "      <td>PC 17599</td>\n",
       "      <td>71.2833</td>\n",
       "      <td>C85</td>\n",
       "      <td>C</td>\n",
       "    </tr>\n",
       "    <tr>\n",
       "      <th>2</th>\n",
       "      <td>3</td>\n",
       "      <td>1</td>\n",
       "      <td>3</td>\n",
       "      <td>Heikkinen, Miss. Laina</td>\n",
       "      <td>female</td>\n",
       "      <td>26.0</td>\n",
       "      <td>0</td>\n",
       "      <td>0</td>\n",
       "      <td>STON/O2. 3101282</td>\n",
       "      <td>7.9250</td>\n",
       "      <td>NaN</td>\n",
       "      <td>S</td>\n",
       "    </tr>\n",
       "    <tr>\n",
       "      <th>3</th>\n",
       "      <td>4</td>\n",
       "      <td>1</td>\n",
       "      <td>1</td>\n",
       "      <td>Futrelle, Mrs. Jacques Heath (Lily May Peel)</td>\n",
       "      <td>female</td>\n",
       "      <td>35.0</td>\n",
       "      <td>1</td>\n",
       "      <td>0</td>\n",
       "      <td>113803</td>\n",
       "      <td>53.1000</td>\n",
       "      <td>C123</td>\n",
       "      <td>S</td>\n",
       "    </tr>\n",
       "    <tr>\n",
       "      <th>4</th>\n",
       "      <td>5</td>\n",
       "      <td>0</td>\n",
       "      <td>3</td>\n",
       "      <td>Allen, Mr. William Henry</td>\n",
       "      <td>male</td>\n",
       "      <td>35.0</td>\n",
       "      <td>0</td>\n",
       "      <td>0</td>\n",
       "      <td>373450</td>\n",
       "      <td>8.0500</td>\n",
       "      <td>NaN</td>\n",
       "      <td>S</td>\n",
       "    </tr>\n",
       "  </tbody>\n",
       "</table>\n",
       "</div>"
      ],
      "text/plain": [
       "   PassengerId  Survived  Pclass  \\\n",
       "0            1         0       3   \n",
       "1            2         1       1   \n",
       "2            3         1       3   \n",
       "3            4         1       1   \n",
       "4            5         0       3   \n",
       "\n",
       "                                                Name     Sex   Age  SibSp  \\\n",
       "0                            Braund, Mr. Owen Harris    male  22.0      1   \n",
       "1  Cumings, Mrs. John Bradley (Florence Briggs Th...  female  38.0      1   \n",
       "2                             Heikkinen, Miss. Laina  female  26.0      0   \n",
       "3       Futrelle, Mrs. Jacques Heath (Lily May Peel)  female  35.0      1   \n",
       "4                           Allen, Mr. William Henry    male  35.0      0   \n",
       "\n",
       "   Parch            Ticket     Fare Cabin Embarked  \n",
       "0      0         A/5 21171   7.2500   NaN        S  \n",
       "1      0          PC 17599  71.2833   C85        C  \n",
       "2      0  STON/O2. 3101282   7.9250   NaN        S  \n",
       "3      0            113803  53.1000  C123        S  \n",
       "4      0            373450   8.0500   NaN        S  "
      ]
     },
     "execution_count": 3,
     "metadata": {},
     "output_type": "execute_result"
    }
   ],
   "source": [
    "train.head()"
   ]
  },
  {
   "cell_type": "code",
   "execution_count": 4,
   "id": "916215e8",
   "metadata": {
    "execution": {
     "iopub.execute_input": "2022-04-11T08:03:56.277757Z",
     "iopub.status.busy": "2022-04-11T08:03:56.277028Z",
     "iopub.status.idle": "2022-04-11T08:03:56.280495Z",
     "shell.execute_reply": "2022-04-11T08:03:56.281199Z",
     "shell.execute_reply.started": "2022-04-11T07:59:11.965075Z"
    },
    "papermill": {
     "duration": 0.085513,
     "end_time": "2022-04-11T08:03:56.281385",
     "exception": false,
     "start_time": "2022-04-11T08:03:56.195872",
     "status": "completed"
    },
    "tags": []
   },
   "outputs": [
    {
     "data": {
      "text/html": [
       "<div>\n",
       "<style scoped>\n",
       "    .dataframe tbody tr th:only-of-type {\n",
       "        vertical-align: middle;\n",
       "    }\n",
       "\n",
       "    .dataframe tbody tr th {\n",
       "        vertical-align: top;\n",
       "    }\n",
       "\n",
       "    .dataframe thead th {\n",
       "        text-align: right;\n",
       "    }\n",
       "</style>\n",
       "<table border=\"1\" class=\"dataframe\">\n",
       "  <thead>\n",
       "    <tr style=\"text-align: right;\">\n",
       "      <th></th>\n",
       "      <th>PassengerId</th>\n",
       "      <th>Pclass</th>\n",
       "      <th>Name</th>\n",
       "      <th>Sex</th>\n",
       "      <th>Age</th>\n",
       "      <th>SibSp</th>\n",
       "      <th>Parch</th>\n",
       "      <th>Ticket</th>\n",
       "      <th>Fare</th>\n",
       "      <th>Cabin</th>\n",
       "      <th>Embarked</th>\n",
       "    </tr>\n",
       "  </thead>\n",
       "  <tbody>\n",
       "    <tr>\n",
       "      <th>0</th>\n",
       "      <td>892</td>\n",
       "      <td>3</td>\n",
       "      <td>Kelly, Mr. James</td>\n",
       "      <td>male</td>\n",
       "      <td>34.5</td>\n",
       "      <td>0</td>\n",
       "      <td>0</td>\n",
       "      <td>330911</td>\n",
       "      <td>7.8292</td>\n",
       "      <td>NaN</td>\n",
       "      <td>Q</td>\n",
       "    </tr>\n",
       "    <tr>\n",
       "      <th>1</th>\n",
       "      <td>893</td>\n",
       "      <td>3</td>\n",
       "      <td>Wilkes, Mrs. James (Ellen Needs)</td>\n",
       "      <td>female</td>\n",
       "      <td>47.0</td>\n",
       "      <td>1</td>\n",
       "      <td>0</td>\n",
       "      <td>363272</td>\n",
       "      <td>7.0000</td>\n",
       "      <td>NaN</td>\n",
       "      <td>S</td>\n",
       "    </tr>\n",
       "    <tr>\n",
       "      <th>2</th>\n",
       "      <td>894</td>\n",
       "      <td>2</td>\n",
       "      <td>Myles, Mr. Thomas Francis</td>\n",
       "      <td>male</td>\n",
       "      <td>62.0</td>\n",
       "      <td>0</td>\n",
       "      <td>0</td>\n",
       "      <td>240276</td>\n",
       "      <td>9.6875</td>\n",
       "      <td>NaN</td>\n",
       "      <td>Q</td>\n",
       "    </tr>\n",
       "    <tr>\n",
       "      <th>3</th>\n",
       "      <td>895</td>\n",
       "      <td>3</td>\n",
       "      <td>Wirz, Mr. Albert</td>\n",
       "      <td>male</td>\n",
       "      <td>27.0</td>\n",
       "      <td>0</td>\n",
       "      <td>0</td>\n",
       "      <td>315154</td>\n",
       "      <td>8.6625</td>\n",
       "      <td>NaN</td>\n",
       "      <td>S</td>\n",
       "    </tr>\n",
       "    <tr>\n",
       "      <th>4</th>\n",
       "      <td>896</td>\n",
       "      <td>3</td>\n",
       "      <td>Hirvonen, Mrs. Alexander (Helga E Lindqvist)</td>\n",
       "      <td>female</td>\n",
       "      <td>22.0</td>\n",
       "      <td>1</td>\n",
       "      <td>1</td>\n",
       "      <td>3101298</td>\n",
       "      <td>12.2875</td>\n",
       "      <td>NaN</td>\n",
       "      <td>S</td>\n",
       "    </tr>\n",
       "  </tbody>\n",
       "</table>\n",
       "</div>"
      ],
      "text/plain": [
       "   PassengerId  Pclass                                          Name     Sex  \\\n",
       "0          892       3                              Kelly, Mr. James    male   \n",
       "1          893       3              Wilkes, Mrs. James (Ellen Needs)  female   \n",
       "2          894       2                     Myles, Mr. Thomas Francis    male   \n",
       "3          895       3                              Wirz, Mr. Albert    male   \n",
       "4          896       3  Hirvonen, Mrs. Alexander (Helga E Lindqvist)  female   \n",
       "\n",
       "    Age  SibSp  Parch   Ticket     Fare Cabin Embarked  \n",
       "0  34.5      0      0   330911   7.8292   NaN        Q  \n",
       "1  47.0      1      0   363272   7.0000   NaN        S  \n",
       "2  62.0      0      0   240276   9.6875   NaN        Q  \n",
       "3  27.0      0      0   315154   8.6625   NaN        S  \n",
       "4  22.0      1      1  3101298  12.2875   NaN        S  "
      ]
     },
     "execution_count": 4,
     "metadata": {},
     "output_type": "execute_result"
    }
   ],
   "source": [
    "test.head()"
   ]
  },
  {
   "cell_type": "code",
   "execution_count": 5,
   "id": "b55fd4c4",
   "metadata": {
    "execution": {
     "iopub.execute_input": "2022-04-11T08:03:56.430326Z",
     "iopub.status.busy": "2022-04-11T08:03:56.429632Z",
     "iopub.status.idle": "2022-04-11T08:03:56.435420Z",
     "shell.execute_reply": "2022-04-11T08:03:56.434939Z",
     "shell.execute_reply.started": "2022-04-11T07:59:12.047597Z"
    },
    "papermill": {
     "duration": 0.072674,
     "end_time": "2022-04-11T08:03:56.435562",
     "exception": false,
     "start_time": "2022-04-11T08:03:56.362888",
     "status": "completed"
    },
    "tags": []
   },
   "outputs": [
    {
     "data": {
      "text/plain": [
       "(891, 12)"
      ]
     },
     "execution_count": 5,
     "metadata": {},
     "output_type": "execute_result"
    }
   ],
   "source": [
    "train.shape"
   ]
  },
  {
   "cell_type": "code",
   "execution_count": 6,
   "id": "a2bff648",
   "metadata": {
    "execution": {
     "iopub.execute_input": "2022-04-11T08:03:56.566672Z",
     "iopub.status.busy": "2022-04-11T08:03:56.566079Z",
     "iopub.status.idle": "2022-04-11T08:03:56.570098Z",
     "shell.execute_reply": "2022-04-11T08:03:56.570619Z",
     "shell.execute_reply.started": "2022-04-11T07:59:12.132688Z"
    },
    "papermill": {
     "duration": 0.07129,
     "end_time": "2022-04-11T08:03:56.570825",
     "exception": false,
     "start_time": "2022-04-11T08:03:56.499535",
     "status": "completed"
    },
    "tags": []
   },
   "outputs": [
    {
     "data": {
      "text/plain": [
       "(418, 11)"
      ]
     },
     "execution_count": 6,
     "metadata": {},
     "output_type": "execute_result"
    }
   ],
   "source": [
    "test.shape"
   ]
  },
  {
   "cell_type": "markdown",
   "id": "4c454248",
   "metadata": {
    "papermill": {
     "duration": 0.064157,
     "end_time": "2022-04-11T08:03:56.698605",
     "exception": false,
     "start_time": "2022-04-11T08:03:56.634448",
     "status": "completed"
    },
    "tags": []
   },
   "source": [
    "Age, Cabin 에서 몇개의 데이터가 빠져있는걸 확인 가능"
   ]
  },
  {
   "cell_type": "code",
   "execution_count": 7,
   "id": "570d4f69",
   "metadata": {
    "execution": {
     "iopub.execute_input": "2022-04-11T08:03:56.849312Z",
     "iopub.status.busy": "2022-04-11T08:03:56.848561Z",
     "iopub.status.idle": "2022-04-11T08:03:56.871884Z",
     "shell.execute_reply": "2022-04-11T08:03:56.872631Z",
     "shell.execute_reply.started": "2022-04-11T07:59:12.233649Z"
    },
    "papermill": {
     "duration": 0.094836,
     "end_time": "2022-04-11T08:03:56.872883",
     "exception": false,
     "start_time": "2022-04-11T08:03:56.778047",
     "status": "completed"
    },
    "tags": []
   },
   "outputs": [
    {
     "name": "stdout",
     "output_type": "stream",
     "text": [
      "<class 'pandas.core.frame.DataFrame'>\n",
      "RangeIndex: 891 entries, 0 to 890\n",
      "Data columns (total 12 columns):\n",
      " #   Column       Non-Null Count  Dtype  \n",
      "---  ------       --------------  -----  \n",
      " 0   PassengerId  891 non-null    int64  \n",
      " 1   Survived     891 non-null    int64  \n",
      " 2   Pclass       891 non-null    int64  \n",
      " 3   Name         891 non-null    object \n",
      " 4   Sex          891 non-null    object \n",
      " 5   Age          714 non-null    float64\n",
      " 6   SibSp        891 non-null    int64  \n",
      " 7   Parch        891 non-null    int64  \n",
      " 8   Ticket       891 non-null    object \n",
      " 9   Fare         891 non-null    float64\n",
      " 10  Cabin        204 non-null    object \n",
      " 11  Embarked     889 non-null    object \n",
      "dtypes: float64(2), int64(5), object(5)\n",
      "memory usage: 83.7+ KB\n"
     ]
    }
   ],
   "source": [
    "train.info()"
   ]
  },
  {
   "cell_type": "code",
   "execution_count": 8,
   "id": "ffc2d348",
   "metadata": {
    "execution": {
     "iopub.execute_input": "2022-04-11T08:03:57.004555Z",
     "iopub.status.busy": "2022-04-11T08:03:57.003942Z",
     "iopub.status.idle": "2022-04-11T08:03:57.017153Z",
     "shell.execute_reply": "2022-04-11T08:03:57.017602Z",
     "shell.execute_reply.started": "2022-04-11T07:59:12.300725Z"
    },
    "papermill": {
     "duration": 0.079715,
     "end_time": "2022-04-11T08:03:57.017810",
     "exception": false,
     "start_time": "2022-04-11T08:03:56.938095",
     "status": "completed"
    },
    "tags": []
   },
   "outputs": [
    {
     "name": "stdout",
     "output_type": "stream",
     "text": [
      "<class 'pandas.core.frame.DataFrame'>\n",
      "RangeIndex: 418 entries, 0 to 417\n",
      "Data columns (total 11 columns):\n",
      " #   Column       Non-Null Count  Dtype  \n",
      "---  ------       --------------  -----  \n",
      " 0   PassengerId  418 non-null    int64  \n",
      " 1   Pclass       418 non-null    int64  \n",
      " 2   Name         418 non-null    object \n",
      " 3   Sex          418 non-null    object \n",
      " 4   Age          332 non-null    float64\n",
      " 5   SibSp        418 non-null    int64  \n",
      " 6   Parch        418 non-null    int64  \n",
      " 7   Ticket       418 non-null    object \n",
      " 8   Fare         417 non-null    float64\n",
      " 9   Cabin        91 non-null     object \n",
      " 10  Embarked     418 non-null    object \n",
      "dtypes: float64(2), int64(4), object(5)\n",
      "memory usage: 36.0+ KB\n"
     ]
    }
   ],
   "source": [
    "test.info()"
   ]
  },
  {
   "cell_type": "markdown",
   "id": "320ac569",
   "metadata": {
    "papermill": {
     "duration": 0.063364,
     "end_time": "2022-04-11T08:03:57.148435",
     "exception": false,
     "start_time": "2022-04-11T08:03:57.085071",
     "status": "completed"
    },
    "tags": []
   },
   "source": [
    "훈련셋에는 Age : 177개 Canin : 687개 값들이 빠져있다."
   ]
  },
  {
   "cell_type": "code",
   "execution_count": 9,
   "id": "0e2f7433",
   "metadata": {
    "execution": {
     "iopub.execute_input": "2022-04-11T08:03:57.284297Z",
     "iopub.status.busy": "2022-04-11T08:03:57.283588Z",
     "iopub.status.idle": "2022-04-11T08:03:57.286478Z",
     "shell.execute_reply": "2022-04-11T08:03:57.286971Z",
     "shell.execute_reply.started": "2022-04-11T07:59:12.382607Z"
    },
    "papermill": {
     "duration": 0.074343,
     "end_time": "2022-04-11T08:03:57.287145",
     "exception": false,
     "start_time": "2022-04-11T08:03:57.212802",
     "status": "completed"
    },
    "tags": []
   },
   "outputs": [
    {
     "data": {
      "text/plain": [
       "PassengerId      0\n",
       "Survived         0\n",
       "Pclass           0\n",
       "Name             0\n",
       "Sex              0\n",
       "Age            177\n",
       "SibSp            0\n",
       "Parch            0\n",
       "Ticket           0\n",
       "Fare             0\n",
       "Cabin          687\n",
       "Embarked         2\n",
       "dtype: int64"
      ]
     },
     "execution_count": 9,
     "metadata": {},
     "output_type": "execute_result"
    }
   ],
   "source": [
    "train.isnull().sum()"
   ]
  },
  {
   "cell_type": "markdown",
   "id": "e343f0b2",
   "metadata": {
    "papermill": {
     "duration": 0.064382,
     "end_time": "2022-04-11T08:03:57.417427",
     "exception": false,
     "start_time": "2022-04-11T08:03:57.353045",
     "status": "completed"
    },
    "tags": []
   },
   "source": [
    "테스트셋에서도 마찬가지로 Age와 Cabin에 값들이 빠져있다."
   ]
  },
  {
   "cell_type": "code",
   "execution_count": 10,
   "id": "ca8b00da",
   "metadata": {
    "execution": {
     "iopub.execute_input": "2022-04-11T08:03:57.560582Z",
     "iopub.status.busy": "2022-04-11T08:03:57.559974Z",
     "iopub.status.idle": "2022-04-11T08:03:57.566616Z",
     "shell.execute_reply": "2022-04-11T08:03:57.567158Z",
     "shell.execute_reply.started": "2022-04-11T07:59:12.464150Z"
    },
    "papermill": {
     "duration": 0.083517,
     "end_time": "2022-04-11T08:03:57.567336",
     "exception": false,
     "start_time": "2022-04-11T08:03:57.483819",
     "status": "completed"
    },
    "tags": []
   },
   "outputs": [
    {
     "data": {
      "text/plain": [
       "PassengerId      0\n",
       "Pclass           0\n",
       "Name             0\n",
       "Sex              0\n",
       "Age             86\n",
       "SibSp            0\n",
       "Parch            0\n",
       "Ticket           0\n",
       "Fare             1\n",
       "Cabin          327\n",
       "Embarked         0\n",
       "dtype: int64"
      ]
     },
     "execution_count": 10,
     "metadata": {},
     "output_type": "execute_result"
    }
   ],
   "source": [
    "test.isnull().sum()"
   ]
  },
  {
   "cell_type": "markdown",
   "id": "f7559cff",
   "metadata": {
    "papermill": {
     "duration": 0.063958,
     "end_time": "2022-04-11T08:03:57.697320",
     "exception": false,
     "start_time": "2022-04-11T08:03:57.633362",
     "status": "completed"
    },
    "tags": []
   },
   "source": [
    "Survivied는 생존 여부(0은 사망, 1은 생존; train 데이터에서만 제공),\n",
    "\n",
    "Pclass는 사회경제적 지위(1에 가까울 수록 높음),\n",
    "\n",
    "SipSp는 배우자나 형제 자매 명 수의 총 합,\n",
    "\n",
    "Parch는 부모 자식 명 수의 총 합을 나타낸다.\n"
   ]
  },
  {
   "cell_type": "code",
   "execution_count": 11,
   "id": "17fa9a9c",
   "metadata": {
    "execution": {
     "iopub.execute_input": "2022-04-11T08:03:57.831806Z",
     "iopub.status.busy": "2022-04-11T08:03:57.831143Z",
     "iopub.status.idle": "2022-04-11T08:03:58.885422Z",
     "shell.execute_reply": "2022-04-11T08:03:58.884733Z",
     "shell.execute_reply.started": "2022-04-11T07:59:12.543068Z"
    },
    "papermill": {
     "duration": 1.122938,
     "end_time": "2022-04-11T08:03:58.885593",
     "exception": false,
     "start_time": "2022-04-11T08:03:57.762655",
     "status": "completed"
    },
    "tags": []
   },
   "outputs": [],
   "source": [
    "import matplotlib.pyplot as plt\n",
    "%matplotlib inline\n",
    "import seaborn as sns\n",
    "sns.set()"
   ]
  },
  {
   "cell_type": "markdown",
   "id": "6078be24",
   "metadata": {
    "papermill": {
     "duration": 0.067885,
     "end_time": "2022-04-11T08:03:59.020048",
     "exception": false,
     "start_time": "2022-04-11T08:03:58.952163",
     "status": "completed"
    },
    "tags": []
   },
   "source": [
    "성별, 나이, 자리 등급 등 특성에 따라 죽었는지 살았는지 그림으로 나타내기"
   ]
  },
  {
   "cell_type": "code",
   "execution_count": 12,
   "id": "9925232a",
   "metadata": {
    "execution": {
     "iopub.execute_input": "2022-04-11T08:03:59.161726Z",
     "iopub.status.busy": "2022-04-11T08:03:59.161066Z",
     "iopub.status.idle": "2022-04-11T08:03:59.163431Z",
     "shell.execute_reply": "2022-04-11T08:03:59.163871Z",
     "shell.execute_reply.started": "2022-04-11T07:59:12.654670Z"
    },
    "papermill": {
     "duration": 0.076778,
     "end_time": "2022-04-11T08:03:59.164044",
     "exception": false,
     "start_time": "2022-04-11T08:03:59.087266",
     "status": "completed"
    },
    "tags": []
   },
   "outputs": [],
   "source": [
    "def pie_chart(feature):\n",
    "    feature_ratio = train[feature].value_counts(sort=False)\n",
    "    feature_size = feature_ratio.size\n",
    "    feature_index = feature_ratio.index\n",
    "    survived = train[train['Survived'] == 1][feature].value_counts()\n",
    "    dead = train[train['Survived'] == 0][feature].value_counts()  \n",
    "    \n",
    "    plt.plot(aspect='auto')\n",
    "    plt.pie(feature_ratio, labels=feature_index, autopct='%1.1f%%')\n",
    "    plt.title(feature + '\\'s ratio in total')\n",
    "    plt.show()\n",
    "\n",
    "    for i, index in enumerate(feature_index):\n",
    "        plt.subplot(1, feature_size + 1, i + 1, aspect='equal')\n",
    "        plt.pie([survived[index], dead[index]], labels=['Survivied', 'Dead'], autopct='%1.1f%%')\n",
    "        plt.title(str(index) + '\\'s ratio')\n",
    "        \n",
    "    plt.show()"
   ]
  },
  {
   "cell_type": "code",
   "execution_count": 13,
   "id": "3bd93252",
   "metadata": {
    "execution": {
     "iopub.execute_input": "2022-04-11T08:03:59.301671Z",
     "iopub.status.busy": "2022-04-11T08:03:59.301065Z",
     "iopub.status.idle": "2022-04-11T08:03:59.305617Z",
     "shell.execute_reply": "2022-04-11T08:03:59.306130Z",
     "shell.execute_reply.started": "2022-04-11T07:59:12.731411Z"
    },
    "papermill": {
     "duration": 0.073825,
     "end_time": "2022-04-11T08:03:59.306293",
     "exception": false,
     "start_time": "2022-04-11T08:03:59.232468",
     "status": "completed"
    },
    "tags": []
   },
   "outputs": [],
   "source": [
    "def bar_chart(feature):\n",
    "    survived = train[train['Survived']==1][feature].value_counts()\n",
    "    dead = train[train['Survived']==0][feature].value_counts()\n",
    "    df = pd.DataFrame([survived,dead])\n",
    "    df.index = ['Survived','Dead']\n",
    "    df.plot(kind='bar',stacked=True, figsize=(10,5))"
   ]
  },
  {
   "cell_type": "code",
   "execution_count": 14,
   "id": "d0641073",
   "metadata": {
    "execution": {
     "iopub.execute_input": "2022-04-11T08:03:59.443742Z",
     "iopub.status.busy": "2022-04-11T08:03:59.442811Z",
     "iopub.status.idle": "2022-04-11T08:03:59.748045Z",
     "shell.execute_reply": "2022-04-11T08:03:59.747191Z",
     "shell.execute_reply.started": "2022-04-11T07:59:12.803365Z"
    },
    "papermill": {
     "duration": 0.375574,
     "end_time": "2022-04-11T08:03:59.748266",
     "exception": false,
     "start_time": "2022-04-11T08:03:59.372692",
     "status": "completed"
    },
    "tags": []
   },
   "outputs": [
    {
     "data": {
      "image/png": "[encoded data removed]",
      "text/plain": [
       "<Figure size 432x288 with 1 Axes>"
      ]
     },
     "metadata": {},
     "output_type": "display_data"
    },
    {
     "data": {
      "image/png": "[encoded data removed]",
      "text/plain": [
       "<Figure size 432x288 with 2 Axes>"
      ]
     },
     "metadata": {},
     "output_type": "display_data"
    }
   ],
   "source": [
    "pie_chart('Sex')"
   ]
  },
  {
   "cell_type": "markdown",
   "id": "be2b3de9",
   "metadata": {
    "papermill": {
     "duration": 0.066356,
     "end_time": "2022-04-11T08:03:59.919179",
     "exception": false,
     "start_time": "2022-04-11T08:03:59.852823",
     "status": "completed"
    },
    "tags": []
   },
   "source": [
    "남자 : 0 여자 : 1\n",
    "\n",
    "남성이 여성보다 많이 탔으며 남성보다 여성의 생존비율이 높다는것을 볼 수 있다."
   ]
  },
  {
   "cell_type": "code",
   "execution_count": 15,
   "id": "2f5c1240",
   "metadata": {
    "execution": {
     "iopub.execute_input": "2022-04-11T08:04:00.057723Z",
     "iopub.status.busy": "2022-04-11T08:04:00.057070Z",
     "iopub.status.idle": "2022-04-11T08:04:00.284111Z",
     "shell.execute_reply": "2022-04-11T08:04:00.284576Z",
     "shell.execute_reply.started": "2022-04-11T07:59:13.137400Z"
    },
    "papermill": {
     "duration": 0.297725,
     "end_time": "2022-04-11T08:04:00.284780",
     "exception": false,
     "start_time": "2022-04-11T08:03:59.987055",
     "status": "completed"
    },
    "tags": []
   },
   "outputs": [
    {
     "data": {
      "image/png": "[encoded data removed]",
      "text/plain": [
       "<Figure size 720x360 with 1 Axes>"
      ]
     },
     "metadata": {},
     "output_type": "display_data"
    }
   ],
   "source": [
    "bar_chart('Sex')"
   ]
  },
  {
   "cell_type": "markdown",
   "id": "cd81a5d6",
   "metadata": {
    "papermill": {
     "duration": 0.066883,
     "end_time": "2022-04-11T08:04:00.420618",
     "exception": false,
     "start_time": "2022-04-11T08:04:00.353735",
     "status": "completed"
    },
    "tags": []
   },
   "source": [
    "여자들이 남자들보다 살아날 확률이 높았다는걸 알 수 있다."
   ]
  },
  {
   "cell_type": "code",
   "execution_count": 16,
   "id": "3ff01d67",
   "metadata": {
    "execution": {
     "iopub.execute_input": "2022-04-11T08:04:00.560539Z",
     "iopub.status.busy": "2022-04-11T08:04:00.559947Z",
     "iopub.status.idle": "2022-04-11T08:04:00.879427Z",
     "shell.execute_reply": "2022-04-11T08:04:00.880461Z",
     "shell.execute_reply.started": "2022-04-11T07:59:13.419078Z"
    },
    "papermill": {
     "duration": 0.392807,
     "end_time": "2022-04-11T08:04:00.880768",
     "exception": false,
     "start_time": "2022-04-11T08:04:00.487961",
     "status": "completed"
    },
    "tags": []
   },
   "outputs": [
    {
     "data": {
      "image/png": "[encoded data removed]",
      "text/plain": [
       "<Figure size 432x288 with 1 Axes>"
      ]
     },
     "metadata": {},
     "output_type": "display_data"
    },
    {
     "data": {
      "image/png": "[encoded data removed]",
      "text/plain": [
       "<Figure size 432x288 with 3 Axes>"
      ]
     },
     "metadata": {},
     "output_type": "display_data"
    }
   ],
   "source": [
    "pie_chart('Pclass')"
   ]
  },
  {
   "cell_type": "markdown",
   "id": "36923771",
   "metadata": {
    "papermill": {
     "duration": 0.069991,
     "end_time": "2022-04-11T08:04:01.055274",
     "exception": false,
     "start_time": "2022-04-11T08:04:00.985283",
     "status": "completed"
    },
    "tags": []
   },
   "source": [
    "위와 같이 Pclass가 3인 사람들의 수가 가장 많았으며, Pclass가 높을수록 생존 비율이 높다는 것을 알 수 있다."
   ]
  },
  {
   "cell_type": "code",
   "execution_count": 17,
   "id": "0d7b3bb1",
   "metadata": {
    "execution": {
     "iopub.execute_input": "2022-04-11T08:04:01.198208Z",
     "iopub.status.busy": "2022-04-11T08:04:01.197619Z",
     "iopub.status.idle": "2022-04-11T08:04:01.375632Z",
     "shell.execute_reply": "2022-04-11T08:04:01.375052Z",
     "shell.execute_reply.started": "2022-04-11T07:59:13.789641Z"
    },
    "papermill": {
     "duration": 0.250035,
     "end_time": "2022-04-11T08:04:01.375801",
     "exception": false,
     "start_time": "2022-04-11T08:04:01.125766",
     "status": "completed"
    },
    "tags": []
   },
   "outputs": [
    {
     "data": {
      "image/png": "[encoded data removed]",
      "text/plain": [
       "<Figure size 720x360 with 1 Axes>"
      ]
     },
     "metadata": {},
     "output_type": "display_data"
    }
   ],
   "source": [
    "bar_chart('Pclass')"
   ]
  },
  {
   "cell_type": "markdown",
   "id": "4d3dfaa4",
   "metadata": {
    "papermill": {
     "duration": 0.070644,
     "end_time": "2022-04-11T08:04:01.515668",
     "exception": false,
     "start_time": "2022-04-11T08:04:01.445024",
     "status": "completed"
    },
    "tags": []
   },
   "source": [
    "1등급 클래스가 생존확률에 큰 역할을 했다는 것을 알 수 있다."
   ]
  },
  {
   "cell_type": "code",
   "execution_count": 18,
   "id": "5935be3a",
   "metadata": {
    "execution": {
     "iopub.execute_input": "2022-04-11T08:04:01.665728Z",
     "iopub.status.busy": "2022-04-11T08:04:01.664743Z",
     "iopub.status.idle": "2022-04-11T08:04:01.925406Z",
     "shell.execute_reply": "2022-04-11T08:04:01.924829Z",
     "shell.execute_reply.started": "2022-04-11T07:59:14.031950Z"
    },
    "papermill": {
     "duration": 0.33943,
     "end_time": "2022-04-11T08:04:01.925534",
     "exception": false,
     "start_time": "2022-04-11T08:04:01.586104",
     "status": "completed"
    },
    "tags": []
   },
   "outputs": [
    {
     "data": {
      "image/png": "[encoded data removed]",
      "text/plain": [
       "<Figure size 720x360 with 1 Axes>"
      ]
     },
     "metadata": {},
     "output_type": "display_data"
    }
   ],
   "source": [
    "bar_chart('SibSp')"
   ]
  },
  {
   "cell_type": "markdown",
   "id": "fe6515f8",
   "metadata": {
    "papermill": {
     "duration": 0.069692,
     "end_time": "2022-04-11T08:04:02.067397",
     "exception": false,
     "start_time": "2022-04-11T08:04:01.997705",
     "status": "completed"
    },
    "tags": []
   },
   "source": [
    "타이타닉에 동승자에 따른 생존율과 사망율을 보여준다.\n",
    "\n",
    "동승자가 있을경우 생존율이 좀 더 있다는 것을 보여준다."
   ]
  },
  {
   "cell_type": "code",
   "execution_count": 19,
   "id": "0f2a5b12",
   "metadata": {
    "execution": {
     "iopub.execute_input": "2022-04-11T08:04:02.212561Z",
     "iopub.status.busy": "2022-04-11T08:04:02.211625Z",
     "iopub.status.idle": "2022-04-11T08:04:02.474700Z",
     "shell.execute_reply": "2022-04-11T08:04:02.475116Z",
     "shell.execute_reply.started": "2022-04-11T07:59:14.329139Z"
    },
    "papermill": {
     "duration": 0.337829,
     "end_time": "2022-04-11T08:04:02.475283",
     "exception": false,
     "start_time": "2022-04-11T08:04:02.137454",
     "status": "completed"
    },
    "tags": []
   },
   "outputs": [
    {
     "data": {
      "image/png": "[encoded data removed]",
      "text/plain": [
       "<Figure size 720x360 with 1 Axes>"
      ]
     },
     "metadata": {},
     "output_type": "display_data"
    }
   ],
   "source": [
    "bar_chart('Parch')"
   ]
  },
  {
   "cell_type": "markdown",
   "id": "0743b293",
   "metadata": {
    "papermill": {
     "duration": 0.070347,
     "end_time": "2022-04-11T08:04:02.617232",
     "exception": false,
     "start_time": "2022-04-11T08:04:02.546885",
     "status": "completed"
    },
    "tags": []
   },
   "source": [
    "혼자 탑승했을 때 보다 부모님이나 아이들과 탑승했을때 더 많이 산 것을 볼 수 있다."
   ]
  },
  {
   "cell_type": "code",
   "execution_count": 20,
   "id": "df191d59",
   "metadata": {
    "execution": {
     "iopub.execute_input": "2022-04-11T08:04:02.765531Z",
     "iopub.status.busy": "2022-04-11T08:04:02.764609Z",
     "iopub.status.idle": "2022-04-11T08:04:03.208758Z",
     "shell.execute_reply": "2022-04-11T08:04:03.207524Z",
     "shell.execute_reply.started": "2022-04-11T07:59:14.612779Z"
    },
    "papermill": {
     "duration": 0.518799,
     "end_time": "2022-04-11T08:04:03.208995",
     "exception": false,
     "start_time": "2022-04-11T08:04:02.690196",
     "status": "completed"
    },
    "tags": []
   },
   "outputs": [
    {
     "data": {
      "image/png": "[encoded data removed]",
      "text/plain": [
       "<Figure size 432x288 with 1 Axes>"
      ]
     },
     "metadata": {},
     "output_type": "display_data"
    },
    {
     "data": {
      "image/png": "[encoded data removed]",
      "text/plain": [
       "<Figure size 432x288 with 3 Axes>"
      ]
     },
     "metadata": {},
     "output_type": "display_data"
    }
   ],
   "source": [
    "pie_chart('Embarked')"
   ]
  },
  {
   "cell_type": "markdown",
   "id": "a4c20728",
   "metadata": {
    "papermill": {
     "duration": 0.072233,
     "end_time": "2022-04-11T08:04:03.388073",
     "exception": false,
     "start_time": "2022-04-11T08:04:03.315840",
     "status": "completed"
    },
    "tags": []
   },
   "source": [
    "위와 같이 S에서 선착한 사람이 가장 많았으며, C에서 탄 사람 중에서는 생존한 사람의 비율이 높았고, 나머지 두 선착장에서 탄 사람들은 생존한 사람보다 그렇지 못한 사람이 조금 더 많았다."
   ]
  },
  {
   "cell_type": "markdown",
   "id": "6c4d0c2b",
   "metadata": {
    "papermill": {
     "duration": 0.072751,
     "end_time": "2022-04-11T08:04:03.534140",
     "exception": false,
     "start_time": "2022-04-11T08:04:03.461389",
     "status": "completed"
    },
    "tags": []
   },
   "source": [
    "지금까지 살펴본 데이터 특성들을 간략하게 종합해보면,\n",
    "\n",
    "성별이 여성일 수록, \n",
    "\n",
    "Pclass가 높을 수록, \n",
    "\n",
    "C선착장에서 배를 탔다면,\n",
    "\n",
    "형제, 자매, 배우자, 부모, 자녀와 함께 배에 탔다면,\n",
    "\n",
    "생존 확률이 더 높았다는 것을 볼 수 있다."
   ]
  },
  {
   "cell_type": "markdown",
   "id": "1e964fb8",
   "metadata": {
    "papermill": {
     "duration": 0.072999,
     "end_time": "2022-04-11T08:04:03.680576",
     "exception": false,
     "start_time": "2022-04-11T08:04:03.607577",
     "status": "completed"
    },
    "tags": []
   },
   "source": [
    "우리가 조사할 특성은 Name, Sex, Embarked, Age, SibSp, Parch, Fare, Pclass이며, Ticket과 Cabin에 대한 의미는 아직 찾지 못했으므로 데이터 세트에서 제외하도록 하겠다."
   ]
  },
  {
   "cell_type": "markdown",
   "id": "820165c8",
   "metadata": {
    "papermill": {
     "duration": 0.07531,
     "end_time": "2022-04-11T08:04:03.829219",
     "exception": false,
     "start_time": "2022-04-11T08:04:03.753909",
     "status": "completed"
    },
    "tags": []
   },
   "source": [
    "# **Name**"
   ]
  },
  {
   "cell_type": "markdown",
   "id": "4ffed3e1",
   "metadata": {
    "papermill": {
     "duration": 0.074216,
     "end_time": "2022-04-11T08:04:03.976184",
     "exception": false,
     "start_time": "2022-04-11T08:04:03.901968",
     "status": "completed"
    },
    "tags": []
   },
   "source": [
    "이름의 정보에는 Mr, Miss, Mrs 등이 담겨있는데 이것으로 성별, 결혼유무를 예측할 수 있다."
   ]
  },
  {
   "cell_type": "markdown",
   "id": "4f9aa2c0",
   "metadata": {
    "papermill": {
     "duration": 0.073634,
     "end_time": "2022-04-11T08:04:04.124617",
     "exception": false,
     "start_time": "2022-04-11T08:04:04.050983",
     "status": "completed"
    },
    "tags": []
   },
   "source": [
    "데이터에 Title이라는 새로운 열을 만들어 Title에서 추출한 Title을 넣어주자."
   ]
  },
  {
   "cell_type": "code",
   "execution_count": 21,
   "id": "994cb515",
   "metadata": {
    "execution": {
     "iopub.execute_input": "2022-04-11T08:04:04.274099Z",
     "iopub.status.busy": "2022-04-11T08:04:04.273421Z",
     "iopub.status.idle": "2022-04-11T08:04:04.280022Z",
     "shell.execute_reply": "2022-04-11T08:04:04.280506Z",
     "shell.execute_reply.started": "2022-04-11T07:59:14.998443Z"
    },
    "papermill": {
     "duration": 0.082551,
     "end_time": "2022-04-11T08:04:04.280691",
     "exception": false,
     "start_time": "2022-04-11T08:04:04.198140",
     "status": "completed"
    },
    "tags": []
   },
   "outputs": [],
   "source": [
    "train_test_data = [train, test] # 훈련셋과 테스트셋 합치기\n",
    "for dataset in train_test_data:\n",
    "    dataset['Title'] = dataset['Name'].str.extract(' ([A-Za-z]+)\\.', expand=False) #' ([A-Za-z]+)\\.'는 정규표현식인데 공백으로 시작하고 '.'으로 끝나는 문자열울 추출할때 쓰인다"
   ]
  },
  {
   "cell_type": "code",
   "execution_count": 22,
   "id": "037a9074",
   "metadata": {
    "execution": {
     "iopub.execute_input": "2022-04-11T08:04:04.428869Z",
     "iopub.status.busy": "2022-04-11T08:04:04.428139Z",
     "iopub.status.idle": "2022-04-11T08:04:04.434262Z",
     "shell.execute_reply": "2022-04-11T08:04:04.434758Z",
     "shell.execute_reply.started": "2022-04-11T07:59:15.014243Z"
    },
    "papermill": {
     "duration": 0.082202,
     "end_time": "2022-04-11T08:04:04.434926",
     "exception": false,
     "start_time": "2022-04-11T08:04:04.352724",
     "status": "completed"
    },
    "tags": []
   },
   "outputs": [
    {
     "data": {
      "text/plain": [
       "Mr          517\n",
       "Miss        182\n",
       "Mrs         125\n",
       "Master       40\n",
       "Dr            7\n",
       "Rev           6\n",
       "Mlle          2\n",
       "Major         2\n",
       "Col           2\n",
       "Countess      1\n",
       "Capt          1\n",
       "Ms            1\n",
       "Sir           1\n",
       "Lady          1\n",
       "Mme           1\n",
       "Don           1\n",
       "Jonkheer      1\n",
       "Name: Title, dtype: int64"
      ]
     },
     "execution_count": 22,
     "metadata": {},
     "output_type": "execute_result"
    }
   ],
   "source": [
    "train['Title'].value_counts()"
   ]
  },
  {
   "cell_type": "code",
   "execution_count": 23,
   "id": "c19f17e0",
   "metadata": {
    "execution": {
     "iopub.execute_input": "2022-04-11T08:04:04.585005Z",
     "iopub.status.busy": "2022-04-11T08:04:04.584371Z",
     "iopub.status.idle": "2022-04-11T08:04:04.591052Z",
     "shell.execute_reply": "2022-04-11T08:04:04.591528Z",
     "shell.execute_reply.started": "2022-04-11T07:59:15.044008Z"
    },
    "papermill": {
     "duration": 0.083582,
     "end_time": "2022-04-11T08:04:04.591707",
     "exception": false,
     "start_time": "2022-04-11T08:04:04.508125",
     "status": "completed"
    },
    "tags": []
   },
   "outputs": [
    {
     "data": {
      "text/plain": [
       "Mr          517\n",
       "Miss        182\n",
       "Mrs         125\n",
       "Master       40\n",
       "Dr            7\n",
       "Rev           6\n",
       "Mlle          2\n",
       "Major         2\n",
       "Col           2\n",
       "Countess      1\n",
       "Capt          1\n",
       "Ms            1\n",
       "Sir           1\n",
       "Lady          1\n",
       "Mme           1\n",
       "Don           1\n",
       "Jonkheer      1\n",
       "Name: Title, dtype: int64"
      ]
     },
     "execution_count": 23,
     "metadata": {},
     "output_type": "execute_result"
    }
   ],
   "source": [
    "train['Title'].value_counts()"
   ]
  },
  {
   "cell_type": "markdown",
   "id": "aabfa0bc",
   "metadata": {
    "papermill": {
     "duration": 0.075479,
     "end_time": "2022-04-11T08:04:04.739848",
     "exception": false,
     "start_time": "2022-04-11T08:04:04.664369",
     "status": "completed"
    },
    "tags": []
   },
   "source": [
    " 추출한 Title을 가진 사람이 몇 명이 존재하는지 성별과 함께 표현을 해보자."
   ]
  },
  {
   "cell_type": "code",
   "execution_count": 24,
   "id": "f9e03568",
   "metadata": {
    "execution": {
     "iopub.execute_input": "2022-04-11T08:04:04.892050Z",
     "iopub.status.busy": "2022-04-11T08:04:04.891286Z",
     "iopub.status.idle": "2022-04-11T08:04:04.914432Z",
     "shell.execute_reply": "2022-04-11T08:04:04.913924Z",
     "shell.execute_reply.started": "2022-04-11T07:59:15.065235Z"
    },
    "papermill": {
     "duration": 0.098845,
     "end_time": "2022-04-11T08:04:04.914581",
     "exception": false,
     "start_time": "2022-04-11T08:04:04.815736",
     "status": "completed"
    },
    "tags": []
   },
   "outputs": [
    {
     "data": {
      "text/html": [
       "<div>\n",
       "<style scoped>\n",
       "    .dataframe tbody tr th:only-of-type {\n",
       "        vertical-align: middle;\n",
       "    }\n",
       "\n",
       "    .dataframe tbody tr th {\n",
       "        vertical-align: top;\n",
       "    }\n",
       "\n",
       "    .dataframe thead th {\n",
       "        text-align: right;\n",
       "    }\n",
       "</style>\n",
       "<table border=\"1\" class=\"dataframe\">\n",
       "  <thead>\n",
       "    <tr style=\"text-align: right;\">\n",
       "      <th>Sex</th>\n",
       "      <th>female</th>\n",
       "      <th>male</th>\n",
       "    </tr>\n",
       "    <tr>\n",
       "      <th>Title</th>\n",
       "      <th></th>\n",
       "      <th></th>\n",
       "    </tr>\n",
       "  </thead>\n",
       "  <tbody>\n",
       "    <tr>\n",
       "      <th>Capt</th>\n",
       "      <td>0</td>\n",
       "      <td>1</td>\n",
       "    </tr>\n",
       "    <tr>\n",
       "      <th>Col</th>\n",
       "      <td>0</td>\n",
       "      <td>2</td>\n",
       "    </tr>\n",
       "    <tr>\n",
       "      <th>Countess</th>\n",
       "      <td>1</td>\n",
       "      <td>0</td>\n",
       "    </tr>\n",
       "    <tr>\n",
       "      <th>Don</th>\n",
       "      <td>0</td>\n",
       "      <td>1</td>\n",
       "    </tr>\n",
       "    <tr>\n",
       "      <th>Dr</th>\n",
       "      <td>1</td>\n",
       "      <td>6</td>\n",
       "    </tr>\n",
       "    <tr>\n",
       "      <th>Jonkheer</th>\n",
       "      <td>0</td>\n",
       "      <td>1</td>\n",
       "    </tr>\n",
       "    <tr>\n",
       "      <th>Lady</th>\n",
       "      <td>1</td>\n",
       "      <td>0</td>\n",
       "    </tr>\n",
       "    <tr>\n",
       "      <th>Major</th>\n",
       "      <td>0</td>\n",
       "      <td>2</td>\n",
       "    </tr>\n",
       "    <tr>\n",
       "      <th>Master</th>\n",
       "      <td>0</td>\n",
       "      <td>40</td>\n",
       "    </tr>\n",
       "    <tr>\n",
       "      <th>Miss</th>\n",
       "      <td>182</td>\n",
       "      <td>0</td>\n",
       "    </tr>\n",
       "    <tr>\n",
       "      <th>Mlle</th>\n",
       "      <td>2</td>\n",
       "      <td>0</td>\n",
       "    </tr>\n",
       "    <tr>\n",
       "      <th>Mme</th>\n",
       "      <td>1</td>\n",
       "      <td>0</td>\n",
       "    </tr>\n",
       "    <tr>\n",
       "      <th>Mr</th>\n",
       "      <td>0</td>\n",
       "      <td>517</td>\n",
       "    </tr>\n",
       "    <tr>\n",
       "      <th>Mrs</th>\n",
       "      <td>125</td>\n",
       "      <td>0</td>\n",
       "    </tr>\n",
       "    <tr>\n",
       "      <th>Ms</th>\n",
       "      <td>1</td>\n",
       "      <td>0</td>\n",
       "    </tr>\n",
       "    <tr>\n",
       "      <th>Rev</th>\n",
       "      <td>0</td>\n",
       "      <td>6</td>\n",
       "    </tr>\n",
       "    <tr>\n",
       "      <th>Sir</th>\n",
       "      <td>0</td>\n",
       "      <td>1</td>\n",
       "    </tr>\n",
       "  </tbody>\n",
       "</table>\n",
       "</div>"
      ],
      "text/plain": [
       "Sex       female  male\n",
       "Title                 \n",
       "Capt           0     1\n",
       "Col            0     2\n",
       "Countess       1     0\n",
       "Don            0     1\n",
       "Dr             1     6\n",
       "Jonkheer       0     1\n",
       "Lady           1     0\n",
       "Major          0     2\n",
       "Master         0    40\n",
       "Miss         182     0\n",
       "Mlle           2     0\n",
       "Mme            1     0\n",
       "Mr             0   517\n",
       "Mrs          125     0\n",
       "Ms             1     0\n",
       "Rev            0     6\n",
       "Sir            0     1"
      ]
     },
     "execution_count": 24,
     "metadata": {},
     "output_type": "execute_result"
    }
   ],
   "source": [
    "pd.crosstab(train['Title'], train['Sex'])"
   ]
  },
  {
   "cell_type": "code",
   "execution_count": 25,
   "id": "7aacb09e",
   "metadata": {
    "execution": {
     "iopub.execute_input": "2022-04-11T08:04:05.089015Z",
     "iopub.status.busy": "2022-04-11T08:04:05.070983Z",
     "iopub.status.idle": "2022-04-11T08:04:05.092918Z",
     "shell.execute_reply": "2022-04-11T08:04:05.092392Z",
     "shell.execute_reply.started": "2022-04-11T07:59:15.107764Z"
    },
    "papermill": {
     "duration": 0.102754,
     "end_time": "2022-04-11T08:04:05.093063",
     "exception": false,
     "start_time": "2022-04-11T08:04:04.990309",
     "status": "completed"
    },
    "tags": []
   },
   "outputs": [
    {
     "data": {
      "text/html": [
       "<div>\n",
       "<style scoped>\n",
       "    .dataframe tbody tr th:only-of-type {\n",
       "        vertical-align: middle;\n",
       "    }\n",
       "\n",
       "    .dataframe tbody tr th {\n",
       "        vertical-align: top;\n",
       "    }\n",
       "\n",
       "    .dataframe thead th {\n",
       "        text-align: right;\n",
       "    }\n",
       "</style>\n",
       "<table border=\"1\" class=\"dataframe\">\n",
       "  <thead>\n",
       "    <tr style=\"text-align: right;\">\n",
       "      <th></th>\n",
       "      <th>Title</th>\n",
       "      <th>Survived</th>\n",
       "    </tr>\n",
       "  </thead>\n",
       "  <tbody>\n",
       "    <tr>\n",
       "      <th>0</th>\n",
       "      <td>Master</td>\n",
       "      <td>0.575000</td>\n",
       "    </tr>\n",
       "    <tr>\n",
       "      <th>1</th>\n",
       "      <td>Miss</td>\n",
       "      <td>0.702703</td>\n",
       "    </tr>\n",
       "    <tr>\n",
       "      <th>2</th>\n",
       "      <td>Mr</td>\n",
       "      <td>0.156673</td>\n",
       "    </tr>\n",
       "    <tr>\n",
       "      <th>3</th>\n",
       "      <td>Mrs</td>\n",
       "      <td>0.793651</td>\n",
       "    </tr>\n",
       "    <tr>\n",
       "      <th>4</th>\n",
       "      <td>Other</td>\n",
       "      <td>0.347826</td>\n",
       "    </tr>\n",
       "  </tbody>\n",
       "</table>\n",
       "</div>"
      ],
      "text/plain": [
       "    Title  Survived\n",
       "0  Master  0.575000\n",
       "1    Miss  0.702703\n",
       "2      Mr  0.156673\n",
       "3     Mrs  0.793651\n",
       "4   Other  0.347826"
      ]
     },
     "execution_count": 25,
     "metadata": {},
     "output_type": "execute_result"
    }
   ],
   "source": [
    "for dataset in train_test_data:\n",
    "    dataset['Title'] = dataset['Title'].replace(['Capt', 'Col', 'Countess', 'Don','Dona', 'Dr', 'Jonkheer',\n",
    "                                                 'Lady','Major', 'Rev', 'Sir'], 'Other')\n",
    "    dataset['Title'] = dataset['Title'].replace('Mlle', 'Miss')\n",
    "    dataset['Title'] = dataset['Title'].replace('Mme', 'Mrs')\n",
    "    dataset['Title'] = dataset['Title'].replace('Ms', 'Miss')\n",
    "\n",
    "train[['Title', 'Survived']].groupby(['Title'], as_index=False).mean()"
   ]
  },
  {
   "cell_type": "markdown",
   "id": "66634b71",
   "metadata": {
    "papermill": {
     "duration": 0.073679,
     "end_time": "2022-04-11T08:04:05.242941",
     "exception": false,
     "start_time": "2022-04-11T08:04:05.169262",
     "status": "completed"
    },
    "tags": []
   },
   "source": [
    "그리고 추출한 Title 데이터를 학습하기 알맞게 String Data로 변형"
   ]
  },
  {
   "cell_type": "code",
   "execution_count": 26,
   "id": "0db52f94",
   "metadata": {
    "execution": {
     "iopub.execute_input": "2022-04-11T08:04:05.396481Z",
     "iopub.status.busy": "2022-04-11T08:04:05.395863Z",
     "iopub.status.idle": "2022-04-11T08:04:05.398943Z",
     "shell.execute_reply": "2022-04-11T08:04:05.398450Z",
     "shell.execute_reply.started": "2022-04-11T07:59:15.142321Z"
    },
    "papermill": {
     "duration": 0.082367,
     "end_time": "2022-04-11T08:04:05.399087",
     "exception": false,
     "start_time": "2022-04-11T08:04:05.316720",
     "status": "completed"
    },
    "tags": []
   },
   "outputs": [],
   "source": [
    "for dataset in train_test_data:\n",
    "    dataset['Title'] = dataset['Title'].astype(str)"
   ]
  },
  {
   "cell_type": "markdown",
   "id": "178f1c95",
   "metadata": {
    "papermill": {
     "duration": 0.075606,
     "end_time": "2022-04-11T08:04:05.548915",
     "exception": false,
     "start_time": "2022-04-11T08:04:05.473309",
     "status": "completed"
    },
    "tags": []
   },
   "source": [
    "# **Sex**"
   ]
  },
  {
   "cell_type": "markdown",
   "id": "986df9ef",
   "metadata": {
    "papermill": {
     "duration": 0.073902,
     "end_time": "2022-04-11T08:04:05.701761",
     "exception": false,
     "start_time": "2022-04-11T08:04:05.627859",
     "status": "completed"
    },
    "tags": []
   },
   "source": [
    "승객의 성별을 나타내는 Sex Feature를 처리할 것인데 이미 male과 female로 나뉘어져 있으므로 String Data로만 변형해주면 된다."
   ]
  },
  {
   "cell_type": "code",
   "execution_count": 27,
   "id": "3aa3f747",
   "metadata": {
    "execution": {
     "iopub.execute_input": "2022-04-11T08:04:05.865307Z",
     "iopub.status.busy": "2022-04-11T08:04:05.864623Z",
     "iopub.status.idle": "2022-04-11T08:04:05.867541Z",
     "shell.execute_reply": "2022-04-11T08:04:05.866898Z",
     "shell.execute_reply.started": "2022-04-11T07:59:15.152473Z"
    },
    "papermill": {
     "duration": 0.090833,
     "end_time": "2022-04-11T08:04:05.867709",
     "exception": false,
     "start_time": "2022-04-11T08:04:05.776876",
     "status": "completed"
    },
    "tags": []
   },
   "outputs": [],
   "source": [
    "for dataset in train_test_data:\n",
    "    dataset['Sex'] = dataset['Sex'].astype(str)"
   ]
  },
  {
   "cell_type": "markdown",
   "id": "929c2c68",
   "metadata": {
    "papermill": {
     "duration": 0.074855,
     "end_time": "2022-04-11T08:04:06.018854",
     "exception": false,
     "start_time": "2022-04-11T08:04:05.943999",
     "status": "completed"
    },
    "tags": []
   },
   "source": [
    "# **Age**"
   ]
  },
  {
   "cell_type": "markdown",
   "id": "02ab53d5",
   "metadata": {
    "papermill": {
     "duration": 0.074397,
     "end_time": "2022-04-11T08:04:06.168448",
     "exception": false,
     "start_time": "2022-04-11T08:04:06.094051",
     "status": "completed"
    },
    "tags": []
   },
   "source": [
    "Age에는 빠진 정보가 들어있다."
   ]
  },
  {
   "cell_type": "code",
   "execution_count": 28,
   "id": "514118de",
   "metadata": {
    "execution": {
     "iopub.execute_input": "2022-04-11T08:04:06.322973Z",
     "iopub.status.busy": "2022-04-11T08:04:06.322250Z",
     "iopub.status.idle": "2022-04-11T08:04:06.340362Z",
     "shell.execute_reply": "2022-04-11T08:04:06.339818Z",
     "shell.execute_reply.started": "2022-04-11T07:59:15.168645Z"
    },
    "papermill": {
     "duration": 0.097854,
     "end_time": "2022-04-11T08:04:06.340501",
     "exception": false,
     "start_time": "2022-04-11T08:04:06.242647",
     "status": "completed"
    },
    "tags": []
   },
   "outputs": [
    {
     "data": {
      "text/html": [
       "<div>\n",
       "<style scoped>\n",
       "    .dataframe tbody tr th:only-of-type {\n",
       "        vertical-align: middle;\n",
       "    }\n",
       "\n",
       "    .dataframe tbody tr th {\n",
       "        vertical-align: top;\n",
       "    }\n",
       "\n",
       "    .dataframe thead th {\n",
       "        text-align: right;\n",
       "    }\n",
       "</style>\n",
       "<table border=\"1\" class=\"dataframe\">\n",
       "  <thead>\n",
       "    <tr style=\"text-align: right;\">\n",
       "      <th></th>\n",
       "      <th>PassengerId</th>\n",
       "      <th>Survived</th>\n",
       "      <th>Pclass</th>\n",
       "      <th>Name</th>\n",
       "      <th>Sex</th>\n",
       "      <th>Age</th>\n",
       "      <th>SibSp</th>\n",
       "      <th>Parch</th>\n",
       "      <th>Ticket</th>\n",
       "      <th>Fare</th>\n",
       "      <th>Cabin</th>\n",
       "      <th>Embarked</th>\n",
       "      <th>Title</th>\n",
       "    </tr>\n",
       "  </thead>\n",
       "  <tbody>\n",
       "    <tr>\n",
       "      <th>0</th>\n",
       "      <td>1</td>\n",
       "      <td>0</td>\n",
       "      <td>3</td>\n",
       "      <td>Braund, Mr. Owen Harris</td>\n",
       "      <td>male</td>\n",
       "      <td>22.0</td>\n",
       "      <td>1</td>\n",
       "      <td>0</td>\n",
       "      <td>A/5 21171</td>\n",
       "      <td>7.2500</td>\n",
       "      <td>NaN</td>\n",
       "      <td>S</td>\n",
       "      <td>Mr</td>\n",
       "    </tr>\n",
       "    <tr>\n",
       "      <th>1</th>\n",
       "      <td>2</td>\n",
       "      <td>1</td>\n",
       "      <td>1</td>\n",
       "      <td>Cumings, Mrs. John Bradley (Florence Briggs Th...</td>\n",
       "      <td>female</td>\n",
       "      <td>38.0</td>\n",
       "      <td>1</td>\n",
       "      <td>0</td>\n",
       "      <td>PC 17599</td>\n",
       "      <td>71.2833</td>\n",
       "      <td>C85</td>\n",
       "      <td>C</td>\n",
       "      <td>Mrs</td>\n",
       "    </tr>\n",
       "    <tr>\n",
       "      <th>2</th>\n",
       "      <td>3</td>\n",
       "      <td>1</td>\n",
       "      <td>3</td>\n",
       "      <td>Heikkinen, Miss. Laina</td>\n",
       "      <td>female</td>\n",
       "      <td>26.0</td>\n",
       "      <td>0</td>\n",
       "      <td>0</td>\n",
       "      <td>STON/O2. 3101282</td>\n",
       "      <td>7.9250</td>\n",
       "      <td>NaN</td>\n",
       "      <td>S</td>\n",
       "      <td>Miss</td>\n",
       "    </tr>\n",
       "    <tr>\n",
       "      <th>3</th>\n",
       "      <td>4</td>\n",
       "      <td>1</td>\n",
       "      <td>1</td>\n",
       "      <td>Futrelle, Mrs. Jacques Heath (Lily May Peel)</td>\n",
       "      <td>female</td>\n",
       "      <td>35.0</td>\n",
       "      <td>1</td>\n",
       "      <td>0</td>\n",
       "      <td>113803</td>\n",
       "      <td>53.1000</td>\n",
       "      <td>C123</td>\n",
       "      <td>S</td>\n",
       "      <td>Mrs</td>\n",
       "    </tr>\n",
       "    <tr>\n",
       "      <th>4</th>\n",
       "      <td>5</td>\n",
       "      <td>0</td>\n",
       "      <td>3</td>\n",
       "      <td>Allen, Mr. William Henry</td>\n",
       "      <td>male</td>\n",
       "      <td>35.0</td>\n",
       "      <td>0</td>\n",
       "      <td>0</td>\n",
       "      <td>373450</td>\n",
       "      <td>8.0500</td>\n",
       "      <td>NaN</td>\n",
       "      <td>S</td>\n",
       "      <td>Mr</td>\n",
       "    </tr>\n",
       "    <tr>\n",
       "      <th>...</th>\n",
       "      <td>...</td>\n",
       "      <td>...</td>\n",
       "      <td>...</td>\n",
       "      <td>...</td>\n",
       "      <td>...</td>\n",
       "      <td>...</td>\n",
       "      <td>...</td>\n",
       "      <td>...</td>\n",
       "      <td>...</td>\n",
       "      <td>...</td>\n",
       "      <td>...</td>\n",
       "      <td>...</td>\n",
       "      <td>...</td>\n",
       "    </tr>\n",
       "    <tr>\n",
       "      <th>95</th>\n",
       "      <td>96</td>\n",
       "      <td>0</td>\n",
       "      <td>3</td>\n",
       "      <td>Shorney, Mr. Charles Joseph</td>\n",
       "      <td>male</td>\n",
       "      <td>NaN</td>\n",
       "      <td>0</td>\n",
       "      <td>0</td>\n",
       "      <td>374910</td>\n",
       "      <td>8.0500</td>\n",
       "      <td>NaN</td>\n",
       "      <td>S</td>\n",
       "      <td>Mr</td>\n",
       "    </tr>\n",
       "    <tr>\n",
       "      <th>96</th>\n",
       "      <td>97</td>\n",
       "      <td>0</td>\n",
       "      <td>1</td>\n",
       "      <td>Goldschmidt, Mr. George B</td>\n",
       "      <td>male</td>\n",
       "      <td>71.0</td>\n",
       "      <td>0</td>\n",
       "      <td>0</td>\n",
       "      <td>PC 17754</td>\n",
       "      <td>34.6542</td>\n",
       "      <td>A5</td>\n",
       "      <td>C</td>\n",
       "      <td>Mr</td>\n",
       "    </tr>\n",
       "    <tr>\n",
       "      <th>97</th>\n",
       "      <td>98</td>\n",
       "      <td>1</td>\n",
       "      <td>1</td>\n",
       "      <td>Greenfield, Mr. William Bertram</td>\n",
       "      <td>male</td>\n",
       "      <td>23.0</td>\n",
       "      <td>0</td>\n",
       "      <td>1</td>\n",
       "      <td>PC 17759</td>\n",
       "      <td>63.3583</td>\n",
       "      <td>D10 D12</td>\n",
       "      <td>C</td>\n",
       "      <td>Mr</td>\n",
       "    </tr>\n",
       "    <tr>\n",
       "      <th>98</th>\n",
       "      <td>99</td>\n",
       "      <td>1</td>\n",
       "      <td>2</td>\n",
       "      <td>Doling, Mrs. John T (Ada Julia Bone)</td>\n",
       "      <td>female</td>\n",
       "      <td>34.0</td>\n",
       "      <td>0</td>\n",
       "      <td>1</td>\n",
       "      <td>231919</td>\n",
       "      <td>23.0000</td>\n",
       "      <td>NaN</td>\n",
       "      <td>S</td>\n",
       "      <td>Mrs</td>\n",
       "    </tr>\n",
       "    <tr>\n",
       "      <th>99</th>\n",
       "      <td>100</td>\n",
       "      <td>0</td>\n",
       "      <td>2</td>\n",
       "      <td>Kantor, Mr. Sinai</td>\n",
       "      <td>male</td>\n",
       "      <td>34.0</td>\n",
       "      <td>1</td>\n",
       "      <td>0</td>\n",
       "      <td>244367</td>\n",
       "      <td>26.0000</td>\n",
       "      <td>NaN</td>\n",
       "      <td>S</td>\n",
       "      <td>Mr</td>\n",
       "    </tr>\n",
       "  </tbody>\n",
       "</table>\n",
       "<p>100 rows × 13 columns</p>\n",
       "</div>"
      ],
      "text/plain": [
       "    PassengerId  Survived  Pclass  \\\n",
       "0             1         0       3   \n",
       "1             2         1       1   \n",
       "2             3         1       3   \n",
       "3             4         1       1   \n",
       "4             5         0       3   \n",
       "..          ...       ...     ...   \n",
       "95           96         0       3   \n",
       "96           97         0       1   \n",
       "97           98         1       1   \n",
       "98           99         1       2   \n",
       "99          100         0       2   \n",
       "\n",
       "                                                 Name     Sex   Age  SibSp  \\\n",
       "0                             Braund, Mr. Owen Harris    male  22.0      1   \n",
       "1   Cumings, Mrs. John Bradley (Florence Briggs Th...  female  38.0      1   \n",
       "2                              Heikkinen, Miss. Laina  female  26.0      0   \n",
       "3        Futrelle, Mrs. Jacques Heath (Lily May Peel)  female  35.0      1   \n",
       "4                            Allen, Mr. William Henry    male  35.0      0   \n",
       "..                                                ...     ...   ...    ...   \n",
       "95                        Shorney, Mr. Charles Joseph    male   NaN      0   \n",
       "96                          Goldschmidt, Mr. George B    male  71.0      0   \n",
       "97                    Greenfield, Mr. William Bertram    male  23.0      0   \n",
       "98               Doling, Mrs. John T (Ada Julia Bone)  female  34.0      0   \n",
       "99                                  Kantor, Mr. Sinai    male  34.0      1   \n",
       "\n",
       "    Parch            Ticket     Fare    Cabin Embarked Title  \n",
       "0       0         A/5 21171   7.2500      NaN        S    Mr  \n",
       "1       0          PC 17599  71.2833      C85        C   Mrs  \n",
       "2       0  STON/O2. 3101282   7.9250      NaN        S  Miss  \n",
       "3       0            113803  53.1000     C123        S   Mrs  \n",
       "4       0            373450   8.0500      NaN        S    Mr  \n",
       "..    ...               ...      ...      ...      ...   ...  \n",
       "95      0            374910   8.0500      NaN        S    Mr  \n",
       "96      0          PC 17754  34.6542       A5        C    Mr  \n",
       "97      1          PC 17759  63.3583  D10 D12        C    Mr  \n",
       "98      1            231919  23.0000      NaN        S   Mrs  \n",
       "99      0            244367  26.0000      NaN        S    Mr  \n",
       "\n",
       "[100 rows x 13 columns]"
      ]
     },
     "execution_count": 28,
     "metadata": {},
     "output_type": "execute_result"
    }
   ],
   "source": [
    "train.head(100)"
   ]
  },
  {
   "cell_type": "markdown",
   "id": "32d6546d",
   "metadata": {
    "papermill": {
     "duration": 0.074352,
     "end_time": "2022-04-11T08:04:06.489880",
     "exception": false,
     "start_time": "2022-04-11T08:04:06.415528",
     "status": "completed"
    },
    "tags": []
   },
   "source": [
    "Age의 결측값에는 전체 사람들 나이의 평균을 넣을 수도 있지만 \n",
    "\n",
    "아까 위에서 Title열로 이름에 따라 나눴기 때문에 이걸 활용하여 \n",
    "\n",
    "각 이름에 따른 중간값을 넣었다."
   ]
  },
  {
   "cell_type": "markdown",
   "id": "8f16cf9f",
   "metadata": {
    "papermill": {
     "duration": 0.075969,
     "end_time": "2022-04-11T08:04:06.640820",
     "exception": false,
     "start_time": "2022-04-11T08:04:06.564851",
     "status": "completed"
    },
    "tags": []
   },
   "source": [
    "Age값이 Null일 경우에는 각 Title 별로 Age의 median값을 넣는다."
   ]
  },
  {
   "cell_type": "code",
   "execution_count": 29,
   "id": "9ae20bf9",
   "metadata": {
    "execution": {
     "iopub.execute_input": "2022-04-11T08:04:06.799583Z",
     "iopub.status.busy": "2022-04-11T08:04:06.798949Z",
     "iopub.status.idle": "2022-04-11T08:04:06.822184Z",
     "shell.execute_reply": "2022-04-11T08:04:06.822734Z",
     "shell.execute_reply.started": "2022-04-11T07:59:15.208880Z"
    },
    "papermill": {
     "duration": 0.106126,
     "end_time": "2022-04-11T08:04:06.822908",
     "exception": false,
     "start_time": "2022-04-11T08:04:06.716782",
     "status": "completed"
    },
    "tags": []
   },
   "outputs": [
    {
     "name": "stdout",
     "output_type": "stream",
     "text": [
      "         AgeBand  Survived\n",
      "0  (-0.08, 16.0]  0.550000\n",
      "1   (16.0, 32.0]  0.344762\n",
      "2   (32.0, 48.0]  0.403226\n",
      "3   (48.0, 64.0]  0.434783\n",
      "4   (64.0, 80.0]  0.090909\n"
     ]
    }
   ],
   "source": [
    "for dataset in train_test_data:\n",
    "    dataset['Age'].fillna(dataset['Age'].mean(), inplace=True)\n",
    "    dataset['Age'] = dataset['Age'].astype(int)\n",
    "    train['AgeBand'] = pd.cut(train['Age'], 5)\n",
    "print (train[['AgeBand', 'Survived']].groupby(['AgeBand'], as_index=False).mean())"
   ]
  },
  {
   "cell_type": "markdown",
   "id": "5bd07a91",
   "metadata": {
    "papermill": {
     "duration": 0.0771,
     "end_time": "2022-04-11T08:04:06.975431",
     "exception": false,
     "start_time": "2022-04-11T08:04:06.898331",
     "status": "completed"
    },
    "tags": []
   },
   "source": [
    "그래프로 표현하면 16~36 사이의 나이가 사망을 많이 했다는것을 볼 수 있다."
   ]
  },
  {
   "cell_type": "code",
   "execution_count": 30,
   "id": "edeb570e",
   "metadata": {
    "execution": {
     "iopub.execute_input": "2022-04-11T08:04:07.133546Z",
     "iopub.status.busy": "2022-04-11T08:04:07.129700Z",
     "iopub.status.idle": "2022-04-11T08:04:07.602508Z",
     "shell.execute_reply": "2022-04-11T08:04:07.602021Z",
     "shell.execute_reply.started": "2022-04-11T07:59:15.240266Z"
    },
    "papermill": {
     "duration": 0.551479,
     "end_time": "2022-04-11T08:04:07.602646",
     "exception": false,
     "start_time": "2022-04-11T08:04:07.051167",
     "status": "completed"
    },
    "tags": []
   },
   "outputs": [
    {
     "data": {
      "image/png": "[encoded data removed]",
      "text/plain": [
       "<Figure size 925.55x216 with 1 Axes>"
      ]
     },
     "metadata": {},
     "output_type": "display_data"
    }
   ],
   "source": [
    "facet = sns.FacetGrid(train, hue=\"Survived\",aspect=4)\n",
    "facet.map(sns.kdeplot,'Age',shade= True)\n",
    "facet.set(xlim=(0, train['Age'].max()))\n",
    "facet.add_legend()\n",
    " \n",
    "plt.show() "
   ]
  },
  {
   "cell_type": "markdown",
   "id": "896e9ec7",
   "metadata": {
    "papermill": {
     "duration": 0.080612,
     "end_time": "2022-04-11T08:04:07.760508",
     "exception": false,
     "start_time": "2022-04-11T08:04:07.679896",
     "status": "completed"
    },
    "tags": []
   },
   "source": [
    "나이 구간에 따라 그래프 확인"
   ]
  },
  {
   "cell_type": "code",
   "execution_count": 31,
   "id": "b82391f8",
   "metadata": {
    "execution": {
     "iopub.execute_input": "2022-04-11T08:04:07.925455Z",
     "iopub.status.busy": "2022-04-11T08:04:07.924838Z",
     "iopub.status.idle": "2022-04-11T08:04:08.431338Z",
     "shell.execute_reply": "2022-04-11T08:04:08.431808Z",
     "shell.execute_reply.started": "2022-04-11T07:59:15.770005Z"
    },
    "papermill": {
     "duration": 0.591124,
     "end_time": "2022-04-11T08:04:08.431973",
     "exception": false,
     "start_time": "2022-04-11T08:04:07.840849",
     "status": "completed"
    },
    "tags": []
   },
   "outputs": [
    {
     "data": {
      "text/plain": [
       "(0.0, 20.0)"
      ]
     },
     "execution_count": 31,
     "metadata": {},
     "output_type": "execute_result"
    },
    {
     "data": {
      "image/png": "[encoded data removed]",
      "text/plain": [
       "<Figure size 925.55x216 with 1 Axes>"
      ]
     },
     "metadata": {},
     "output_type": "display_data"
    }
   ],
   "source": [
    "facet = sns.FacetGrid(train, hue=\"Survived\",aspect=4)\n",
    "facet.map(sns.kdeplot,'Age',shade= True)\n",
    "facet.set(xlim=(0, train['Age'].max()))\n",
    "facet.add_legend()\n",
    "plt.xlim(0, 20)"
   ]
  },
  {
   "cell_type": "code",
   "execution_count": 32,
   "id": "47c1753a",
   "metadata": {
    "execution": {
     "iopub.execute_input": "2022-04-11T08:04:08.591901Z",
     "iopub.status.busy": "2022-04-11T08:04:08.590968Z",
     "iopub.status.idle": "2022-04-11T08:04:09.113779Z",
     "shell.execute_reply": "2022-04-11T08:04:09.114243Z",
     "shell.execute_reply.started": "2022-04-11T07:59:16.402500Z"
    },
    "papermill": {
     "duration": 0.605078,
     "end_time": "2022-04-11T08:04:09.114408",
     "exception": false,
     "start_time": "2022-04-11T08:04:08.509330",
     "status": "completed"
    },
    "tags": []
   },
   "outputs": [
    {
     "data": {
      "text/plain": [
       "(20.0, 30.0)"
      ]
     },
     "execution_count": 32,
     "metadata": {},
     "output_type": "execute_result"
    },
    {
     "data": {
      "image/png": "[encoded data removed]",
      "text/plain": [
       "<Figure size 925.55x216 with 1 Axes>"
      ]
     },
     "metadata": {},
     "output_type": "display_data"
    }
   ],
   "source": [
    "facet = sns.FacetGrid(train, hue=\"Survived\",aspect=4)\n",
    "facet.map(sns.kdeplot,'Age',shade= True)\n",
    "facet.set(xlim=(0, train['Age'].max()))\n",
    "facet.add_legend()\n",
    "plt.xlim(20, 30)"
   ]
  },
  {
   "cell_type": "code",
   "execution_count": 33,
   "id": "f1774609",
   "metadata": {
    "execution": {
     "iopub.execute_input": "2022-04-11T08:04:09.291383Z",
     "iopub.status.busy": "2022-04-11T08:04:09.290375Z",
     "iopub.status.idle": "2022-04-11T08:04:09.774412Z",
     "shell.execute_reply": "2022-04-11T08:04:09.774957Z",
     "shell.execute_reply.started": "2022-04-11T07:59:16.919732Z"
    },
    "papermill": {
     "duration": 0.582109,
     "end_time": "2022-04-11T08:04:09.775141",
     "exception": false,
     "start_time": "2022-04-11T08:04:09.193032",
     "status": "completed"
    },
    "tags": []
   },
   "outputs": [
    {
     "data": {
      "text/plain": [
       "(30.0, 40.0)"
      ]
     },
     "execution_count": 33,
     "metadata": {},
     "output_type": "execute_result"
    },
    {
     "data": {
      "image/png": "[encoded data removed]",
      "text/plain": [
       "<Figure size 925.55x216 with 1 Axes>"
      ]
     },
     "metadata": {},
     "output_type": "display_data"
    }
   ],
   "source": [
    "facet = sns.FacetGrid(train, hue=\"Survived\",aspect=4)\n",
    "facet.map(sns.kdeplot,'Age',shade= True)\n",
    "facet.set(xlim=(0, train['Age'].max()))\n",
    "facet.add_legend()\n",
    "plt.xlim(30, 40)"
   ]
  },
  {
   "cell_type": "code",
   "execution_count": 34,
   "id": "d8b2f7a7",
   "metadata": {
    "execution": {
     "iopub.execute_input": "2022-04-11T08:04:09.941732Z",
     "iopub.status.busy": "2022-04-11T08:04:09.938623Z",
     "iopub.status.idle": "2022-04-11T08:04:10.472416Z",
     "shell.execute_reply": "2022-04-11T08:04:10.471618Z",
     "shell.execute_reply.started": "2022-04-11T07:59:17.444175Z"
    },
    "papermill": {
     "duration": 0.617254,
     "end_time": "2022-04-11T08:04:10.472559",
     "exception": false,
     "start_time": "2022-04-11T08:04:09.855305",
     "status": "completed"
    },
    "tags": []
   },
   "outputs": [
    {
     "data": {
      "text/plain": [
       "(40.0, 60.0)"
      ]
     },
     "execution_count": 34,
     "metadata": {},
     "output_type": "execute_result"
    },
    {
     "data": {
      "image/png": "[encoded data removed]",
      "text/plain": [
       "<Figure size 925.55x216 with 1 Axes>"
      ]
     },
     "metadata": {},
     "output_type": "display_data"
    }
   ],
   "source": [
    "facet = sns.FacetGrid(train, hue=\"Survived\",aspect=4)\n",
    "facet.map(sns.kdeplot,'Age',shade= True)\n",
    "facet.set(xlim=(0, train['Age'].max()))\n",
    "facet.add_legend()\n",
    "plt.xlim(40, 60)"
   ]
  },
  {
   "cell_type": "code",
   "execution_count": 35,
   "id": "10593c4f",
   "metadata": {
    "execution": {
     "iopub.execute_input": "2022-04-11T08:04:10.643456Z",
     "iopub.status.busy": "2022-04-11T08:04:10.642840Z",
     "iopub.status.idle": "2022-04-11T08:04:11.163037Z",
     "shell.execute_reply": "2022-04-11T08:04:11.162139Z",
     "shell.execute_reply.started": "2022-04-11T07:59:18.104936Z"
    },
    "papermill": {
     "duration": 0.606589,
     "end_time": "2022-04-11T08:04:11.163182",
     "exception": false,
     "start_time": "2022-04-11T08:04:10.556593",
     "status": "completed"
    },
    "tags": []
   },
   "outputs": [
    {
     "data": {
      "text/plain": [
       "(40.0, 60.0)"
      ]
     },
     "execution_count": 35,
     "metadata": {},
     "output_type": "execute_result"
    },
    {
     "data": {
      "image/png": "[encoded data removed]",
      "text/plain": [
       "<Figure size 925.55x216 with 1 Axes>"
      ]
     },
     "metadata": {},
     "output_type": "display_data"
    }
   ],
   "source": [
    "facet = sns.FacetGrid(train, hue=\"Survived\",aspect=4)\n",
    "facet.map(sns.kdeplot,'Age',shade= True)\n",
    "facet.set(xlim=(0, train['Age'].max()))\n",
    "facet.add_legend()\n",
    "plt.xlim(40, 60)"
   ]
  },
  {
   "cell_type": "code",
   "execution_count": 36,
   "id": "158653a9",
   "metadata": {
    "execution": {
     "iopub.execute_input": "2022-04-11T08:04:11.333464Z",
     "iopub.status.busy": "2022-04-11T08:04:11.332531Z",
     "iopub.status.idle": "2022-04-11T08:04:11.848002Z",
     "shell.execute_reply": "2022-04-11T08:04:11.848413Z",
     "shell.execute_reply.started": "2022-04-11T07:59:18.710349Z"
    },
    "papermill": {
     "duration": 0.602507,
     "end_time": "2022-04-11T08:04:11.848587",
     "exception": false,
     "start_time": "2022-04-11T08:04:11.246080",
     "status": "completed"
    },
    "tags": []
   },
   "outputs": [
    {
     "data": {
      "text/plain": [
       "(60.0, 80.0)"
      ]
     },
     "execution_count": 36,
     "metadata": {},
     "output_type": "execute_result"
    },
    {
     "data": {
      "image/png": "[encoded data removed]",
      "text/plain": [
       "<Figure size 925.55x216 with 1 Axes>"
      ]
     },
     "metadata": {},
     "output_type": "display_data"
    }
   ],
   "source": [
    "facet = sns.FacetGrid(train, hue=\"Survived\",aspect=4)\n",
    "facet.map(sns.kdeplot,'Age',shade= True)\n",
    "facet.set(xlim=(0, train['Age'].max()))\n",
    "facet.add_legend()\n",
    "plt.xlim(60)"
   ]
  },
  {
   "cell_type": "code",
   "execution_count": 37,
   "id": "335728d9",
   "metadata": {
    "execution": {
     "iopub.execute_input": "2022-04-11T08:04:12.022709Z",
     "iopub.status.busy": "2022-04-11T08:04:12.021720Z",
     "iopub.status.idle": "2022-04-11T08:04:12.034708Z",
     "shell.execute_reply": "2022-04-11T08:04:12.035166Z",
     "shell.execute_reply.started": "2022-04-11T07:59:19.261501Z"
    },
    "papermill": {
     "duration": 0.100144,
     "end_time": "2022-04-11T08:04:12.035343",
     "exception": false,
     "start_time": "2022-04-11T08:04:11.935199",
     "status": "completed"
    },
    "tags": []
   },
   "outputs": [
    {
     "name": "stdout",
     "output_type": "stream",
     "text": [
      "<class 'pandas.core.frame.DataFrame'>\n",
      "RangeIndex: 891 entries, 0 to 890\n",
      "Data columns (total 14 columns):\n",
      " #   Column       Non-Null Count  Dtype   \n",
      "---  ------       --------------  -----   \n",
      " 0   PassengerId  891 non-null    int64   \n",
      " 1   Survived     891 non-null    int64   \n",
      " 2   Pclass       891 non-null    int64   \n",
      " 3   Name         891 non-null    object  \n",
      " 4   Sex          891 non-null    object  \n",
      " 5   Age          891 non-null    int64   \n",
      " 6   SibSp        891 non-null    int64   \n",
      " 7   Parch        891 non-null    int64   \n",
      " 8   Ticket       891 non-null    object  \n",
      " 9   Fare         891 non-null    float64 \n",
      " 10  Cabin        204 non-null    object  \n",
      " 11  Embarked     889 non-null    object  \n",
      " 12  Title        891 non-null    object  \n",
      " 13  AgeBand      891 non-null    category\n",
      "dtypes: category(1), float64(1), int64(6), object(6)\n",
      "memory usage: 91.7+ KB\n"
     ]
    }
   ],
   "source": [
    "train.info()"
   ]
  },
  {
   "cell_type": "code",
   "execution_count": 38,
   "id": "2fdc8f9d",
   "metadata": {
    "execution": {
     "iopub.execute_input": "2022-04-11T08:04:12.210671Z",
     "iopub.status.busy": "2022-04-11T08:04:12.209793Z",
     "iopub.status.idle": "2022-04-11T08:04:12.222823Z",
     "shell.execute_reply": "2022-04-11T08:04:12.223488Z",
     "shell.execute_reply.started": "2022-04-11T07:59:19.281461Z"
    },
    "papermill": {
     "duration": 0.103657,
     "end_time": "2022-04-11T08:04:12.223759",
     "exception": false,
     "start_time": "2022-04-11T08:04:12.120102",
     "status": "completed"
    },
    "tags": []
   },
   "outputs": [
    {
     "name": "stdout",
     "output_type": "stream",
     "text": [
      "<class 'pandas.core.frame.DataFrame'>\n",
      "RangeIndex: 418 entries, 0 to 417\n",
      "Data columns (total 12 columns):\n",
      " #   Column       Non-Null Count  Dtype  \n",
      "---  ------       --------------  -----  \n",
      " 0   PassengerId  418 non-null    int64  \n",
      " 1   Pclass       418 non-null    int64  \n",
      " 2   Name         418 non-null    object \n",
      " 3   Sex          418 non-null    object \n",
      " 4   Age          418 non-null    int64  \n",
      " 5   SibSp        418 non-null    int64  \n",
      " 6   Parch        418 non-null    int64  \n",
      " 7   Ticket       418 non-null    object \n",
      " 8   Fare         417 non-null    float64\n",
      " 9   Cabin        91 non-null     object \n",
      " 10  Embarked     418 non-null    object \n",
      " 11  Title        418 non-null    object \n",
      "dtypes: float64(1), int64(5), object(6)\n",
      "memory usage: 39.3+ KB\n"
     ]
    }
   ],
   "source": [
    "test.info()"
   ]
  },
  {
   "cell_type": "markdown",
   "id": "1c11aed7",
   "metadata": {
    "papermill": {
     "duration": 0.084753,
     "end_time": "2022-04-11T08:04:12.395612",
     "exception": false,
     "start_time": "2022-04-11T08:04:12.310859",
     "status": "completed"
    },
    "tags": []
   },
   "source": [
    "**Binning**"
   ]
  },
  {
   "cell_type": "markdown",
   "id": "9963d0a0",
   "metadata": {
    "papermill": {
     "duration": 0.08501,
     "end_time": "2022-04-11T08:04:12.565896",
     "exception": false,
     "start_time": "2022-04-11T08:04:12.480886",
     "status": "completed"
    },
    "tags": []
   },
   "source": [
    "Binning이란 연속형 변수를 특정 구간으로 나누어 범주형 또는 순위형 변수로 변환하는 방법이다."
   ]
  },
  {
   "cell_type": "markdown",
   "id": "738dee5f",
   "metadata": {
    "papermill": {
     "duration": 0.086347,
     "end_time": "2022-04-11T08:04:12.738826",
     "exception": false,
     "start_time": "2022-04-11T08:04:12.652479",
     "status": "completed"
    },
    "tags": []
   },
   "source": [
    "나이를 한번에 데이터에 넣으면 0~80까지 너무 많은 정보가 있다\n",
    "\n",
    "그렇기 때문에 5구간으로 쪼개서 값을 넣어준다."
   ]
  },
  {
   "cell_type": "markdown",
   "id": "eb9e122f",
   "metadata": {
    "papermill": {
     "duration": 0.085001,
     "end_time": "2022-04-11T08:04:12.910163",
     "exception": false,
     "start_time": "2022-04-11T08:04:12.825162",
     "status": "completed"
    },
    "tags": []
   },
   "source": [
    "child: 0\n",
    "\n",
    "Young: 1\n",
    "\n",
    "Middle: 2\n",
    "\n",
    "Prime: 3\n",
    "\n",
    "Old: 4"
   ]
  },
  {
   "cell_type": "code",
   "execution_count": 39,
   "id": "f647d8d6",
   "metadata": {
    "execution": {
     "iopub.execute_input": "2022-04-11T08:04:13.086883Z",
     "iopub.status.busy": "2022-04-11T08:04:13.086194Z",
     "iopub.status.idle": "2022-04-11T08:04:13.100099Z",
     "shell.execute_reply": "2022-04-11T08:04:13.100588Z",
     "shell.execute_reply.started": "2022-04-11T07:59:19.307083Z"
    },
    "papermill": {
     "duration": 0.104862,
     "end_time": "2022-04-11T08:04:13.100777",
     "exception": false,
     "start_time": "2022-04-11T08:04:12.995915",
     "status": "completed"
    },
    "tags": []
   },
   "outputs": [],
   "source": [
    "for dataset in train_test_data:\n",
    "    dataset.loc[ dataset['Age'] <= 16, 'Age'] = 0\n",
    "    dataset.loc[(dataset['Age'] > 16) & (dataset['Age'] <= 26), 'Age'] = 1\n",
    "    dataset.loc[(dataset['Age'] > 26) & (dataset['Age'] <= 36), 'Age'] = 2\n",
    "    dataset.loc[(dataset['Age'] > 36) & (dataset['Age'] <= 62), 'Age'] = 3\n",
    "    dataset.loc[ dataset['Age'] > 62, 'Age'] = 4\n",
    "    dataset['Age'] = dataset['Age'].map( { 0: 'Child',  1: 'Young', 2: 'Middle', 3: 'Prime', 4: 'Old'} ).astype(str)"
   ]
  },
  {
   "cell_type": "code",
   "execution_count": 40,
   "id": "c918deeb",
   "metadata": {
    "execution": {
     "iopub.execute_input": "2022-04-11T08:04:13.278602Z",
     "iopub.status.busy": "2022-04-11T08:04:13.278017Z",
     "iopub.status.idle": "2022-04-11T08:04:13.296950Z",
     "shell.execute_reply": "2022-04-11T08:04:13.297816Z",
     "shell.execute_reply.started": "2022-04-11T07:59:19.335179Z"
    },
    "papermill": {
     "duration": 0.108415,
     "end_time": "2022-04-11T08:04:13.298050",
     "exception": false,
     "start_time": "2022-04-11T08:04:13.189635",
     "status": "completed"
    },
    "tags": []
   },
   "outputs": [
    {
     "data": {
      "text/html": [
       "<div>\n",
       "<style scoped>\n",
       "    .dataframe tbody tr th:only-of-type {\n",
       "        vertical-align: middle;\n",
       "    }\n",
       "\n",
       "    .dataframe tbody tr th {\n",
       "        vertical-align: top;\n",
       "    }\n",
       "\n",
       "    .dataframe thead th {\n",
       "        text-align: right;\n",
       "    }\n",
       "</style>\n",
       "<table border=\"1\" class=\"dataframe\">\n",
       "  <thead>\n",
       "    <tr style=\"text-align: right;\">\n",
       "      <th></th>\n",
       "      <th>PassengerId</th>\n",
       "      <th>Survived</th>\n",
       "      <th>Pclass</th>\n",
       "      <th>Name</th>\n",
       "      <th>Sex</th>\n",
       "      <th>Age</th>\n",
       "      <th>SibSp</th>\n",
       "      <th>Parch</th>\n",
       "      <th>Ticket</th>\n",
       "      <th>Fare</th>\n",
       "      <th>Cabin</th>\n",
       "      <th>Embarked</th>\n",
       "      <th>Title</th>\n",
       "      <th>AgeBand</th>\n",
       "    </tr>\n",
       "  </thead>\n",
       "  <tbody>\n",
       "    <tr>\n",
       "      <th>0</th>\n",
       "      <td>1</td>\n",
       "      <td>0</td>\n",
       "      <td>3</td>\n",
       "      <td>Braund, Mr. Owen Harris</td>\n",
       "      <td>male</td>\n",
       "      <td>Young</td>\n",
       "      <td>1</td>\n",
       "      <td>0</td>\n",
       "      <td>A/5 21171</td>\n",
       "      <td>7.2500</td>\n",
       "      <td>NaN</td>\n",
       "      <td>S</td>\n",
       "      <td>Mr</td>\n",
       "      <td>(16.0, 32.0]</td>\n",
       "    </tr>\n",
       "    <tr>\n",
       "      <th>1</th>\n",
       "      <td>2</td>\n",
       "      <td>1</td>\n",
       "      <td>1</td>\n",
       "      <td>Cumings, Mrs. John Bradley (Florence Briggs Th...</td>\n",
       "      <td>female</td>\n",
       "      <td>Prime</td>\n",
       "      <td>1</td>\n",
       "      <td>0</td>\n",
       "      <td>PC 17599</td>\n",
       "      <td>71.2833</td>\n",
       "      <td>C85</td>\n",
       "      <td>C</td>\n",
       "      <td>Mrs</td>\n",
       "      <td>(32.0, 48.0]</td>\n",
       "    </tr>\n",
       "    <tr>\n",
       "      <th>2</th>\n",
       "      <td>3</td>\n",
       "      <td>1</td>\n",
       "      <td>3</td>\n",
       "      <td>Heikkinen, Miss. Laina</td>\n",
       "      <td>female</td>\n",
       "      <td>Young</td>\n",
       "      <td>0</td>\n",
       "      <td>0</td>\n",
       "      <td>STON/O2. 3101282</td>\n",
       "      <td>7.9250</td>\n",
       "      <td>NaN</td>\n",
       "      <td>S</td>\n",
       "      <td>Miss</td>\n",
       "      <td>(16.0, 32.0]</td>\n",
       "    </tr>\n",
       "    <tr>\n",
       "      <th>3</th>\n",
       "      <td>4</td>\n",
       "      <td>1</td>\n",
       "      <td>1</td>\n",
       "      <td>Futrelle, Mrs. Jacques Heath (Lily May Peel)</td>\n",
       "      <td>female</td>\n",
       "      <td>Middle</td>\n",
       "      <td>1</td>\n",
       "      <td>0</td>\n",
       "      <td>113803</td>\n",
       "      <td>53.1000</td>\n",
       "      <td>C123</td>\n",
       "      <td>S</td>\n",
       "      <td>Mrs</td>\n",
       "      <td>(32.0, 48.0]</td>\n",
       "    </tr>\n",
       "    <tr>\n",
       "      <th>4</th>\n",
       "      <td>5</td>\n",
       "      <td>0</td>\n",
       "      <td>3</td>\n",
       "      <td>Allen, Mr. William Henry</td>\n",
       "      <td>male</td>\n",
       "      <td>Middle</td>\n",
       "      <td>0</td>\n",
       "      <td>0</td>\n",
       "      <td>373450</td>\n",
       "      <td>8.0500</td>\n",
       "      <td>NaN</td>\n",
       "      <td>S</td>\n",
       "      <td>Mr</td>\n",
       "      <td>(32.0, 48.0]</td>\n",
       "    </tr>\n",
       "  </tbody>\n",
       "</table>\n",
       "</div>"
      ],
      "text/plain": [
       "   PassengerId  Survived  Pclass  \\\n",
       "0            1         0       3   \n",
       "1            2         1       1   \n",
       "2            3         1       3   \n",
       "3            4         1       1   \n",
       "4            5         0       3   \n",
       "\n",
       "                                                Name     Sex     Age  SibSp  \\\n",
       "0                            Braund, Mr. Owen Harris    male   Young      1   \n",
       "1  Cumings, Mrs. John Bradley (Florence Briggs Th...  female   Prime      1   \n",
       "2                             Heikkinen, Miss. Laina  female   Young      0   \n",
       "3       Futrelle, Mrs. Jacques Heath (Lily May Peel)  female  Middle      1   \n",
       "4                           Allen, Mr. William Henry    male  Middle      0   \n",
       "\n",
       "   Parch            Ticket     Fare Cabin Embarked Title       AgeBand  \n",
       "0      0         A/5 21171   7.2500   NaN        S    Mr  (16.0, 32.0]  \n",
       "1      0          PC 17599  71.2833   C85        C   Mrs  (32.0, 48.0]  \n",
       "2      0  STON/O2. 3101282   7.9250   NaN        S  Miss  (16.0, 32.0]  \n",
       "3      0            113803  53.1000  C123        S   Mrs  (32.0, 48.0]  \n",
       "4      0            373450   8.0500   NaN        S    Mr  (32.0, 48.0]  "
      ]
     },
     "execution_count": 40,
     "metadata": {},
     "output_type": "execute_result"
    }
   ],
   "source": [
    "train.head()"
   ]
  },
  {
   "cell_type": "code",
   "execution_count": 41,
   "id": "35f6efd3",
   "metadata": {
    "execution": {
     "iopub.execute_input": "2022-04-11T08:04:13.507480Z",
     "iopub.status.busy": "2022-04-11T08:04:13.506173Z",
     "iopub.status.idle": "2022-04-11T08:04:13.770567Z",
     "shell.execute_reply": "2022-04-11T08:04:13.771023Z",
     "shell.execute_reply.started": "2022-04-11T07:59:19.369895Z"
    },
    "papermill": {
     "duration": 0.36932,
     "end_time": "2022-04-11T08:04:13.771199",
     "exception": false,
     "start_time": "2022-04-11T08:04:13.401879",
     "status": "completed"
    },
    "tags": []
   },
   "outputs": [
    {
     "data": {
      "image/png": "[encoded data removed]",
      "text/plain": [
       "<Figure size 720x360 with 1 Axes>"
      ]
     },
     "metadata": {},
     "output_type": "display_data"
    }
   ],
   "source": [
    "bar_chart('Age')"
   ]
  },
  {
   "cell_type": "markdown",
   "id": "20ec591f",
   "metadata": {
    "papermill": {
     "duration": 0.090143,
     "end_time": "2022-04-11T08:04:13.949806",
     "exception": false,
     "start_time": "2022-04-11T08:04:13.859663",
     "status": "completed"
    },
    "tags": []
   },
   "source": [
    "각 나이대별로 생존율과 사망율의 차이가 눈에 보인다.\n",
    "\n",
    "즉 Age에 Binning(각 카테고리에 정보(Age)를 담아 명확하게 하는 방법)을 이용하여 더 효율적인 데이터로 만들었다."
   ]
  },
  {
   "cell_type": "markdown",
   "id": "c4c5737b",
   "metadata": {
    "papermill": {
     "duration": 0.088101,
     "end_time": "2022-04-11T08:04:14.128443",
     "exception": false,
     "start_time": "2022-04-11T08:04:14.040342",
     "status": "completed"
    },
    "tags": []
   },
   "source": [
    "# **Embarked**"
   ]
  },
  {
   "cell_type": "markdown",
   "id": "77f5b324",
   "metadata": {
    "papermill": {
     "duration": 0.087291,
     "end_time": "2022-04-11T08:04:14.306758",
     "exception": false,
     "start_time": "2022-04-11T08:04:14.219467",
     "status": "completed"
    },
    "tags": []
   },
   "source": [
    "살펴본 데이터 정보에 따르면 train 데이터에서 Embarked feature에는 NaN 값이 존재하며, 다음코드로 알아보자."
   ]
  },
  {
   "cell_type": "code",
   "execution_count": 42,
   "id": "8a5fdafd",
   "metadata": {
    "execution": {
     "iopub.execute_input": "2022-04-11T08:04:14.488664Z",
     "iopub.status.busy": "2022-04-11T08:04:14.487860Z",
     "iopub.status.idle": "2022-04-11T08:04:14.491891Z",
     "shell.execute_reply": "2022-04-11T08:04:14.491252Z",
     "shell.execute_reply.started": "2022-04-11T07:59:19.635099Z"
    },
    "papermill": {
     "duration": 0.098985,
     "end_time": "2022-04-11T08:04:14.492030",
     "exception": false,
     "start_time": "2022-04-11T08:04:14.393045",
     "status": "completed"
    },
    "tags": []
   },
   "outputs": [
    {
     "data": {
      "text/plain": [
       "S      644\n",
       "C      168\n",
       "Q       77\n",
       "NaN      2\n",
       "Name: Embarked, dtype: int64"
      ]
     },
     "execution_count": 42,
     "metadata": {},
     "output_type": "execute_result"
    }
   ],
   "source": [
    "train.Embarked.value_counts(dropna=False)"
   ]
  },
  {
   "cell_type": "markdown",
   "id": "afef5044",
   "metadata": {
    "papermill": {
     "duration": 0.088102,
     "end_time": "2022-04-11T08:04:14.667540",
     "exception": false,
     "start_time": "2022-04-11T08:04:14.579438",
     "status": "completed"
    },
    "tags": []
   },
   "source": [
    "value_count()에서 dropna를 False로 해주면 NaN 값을 포함한 갯수의 총합을 세준다."
   ]
  },
  {
   "cell_type": "code",
   "execution_count": 43,
   "id": "ef3324b4",
   "metadata": {
    "execution": {
     "iopub.execute_input": "2022-04-11T08:04:14.846199Z",
     "iopub.status.busy": "2022-04-11T08:04:14.845233Z",
     "iopub.status.idle": "2022-04-11T08:04:14.851126Z",
     "shell.execute_reply": "2022-04-11T08:04:14.851664Z",
     "shell.execute_reply.started": "2022-04-11T07:59:19.648656Z"
    },
    "papermill": {
     "duration": 0.097274,
     "end_time": "2022-04-11T08:04:14.851855",
     "exception": false,
     "start_time": "2022-04-11T08:04:14.754581",
     "status": "completed"
    },
    "tags": []
   },
   "outputs": [],
   "source": [
    "for dataset in train_test_data:\n",
    "    dataset['Embarked'] = dataset['Embarked'].fillna('S')\n",
    "    dataset['Embarked'] = dataset['Embarked'].astype(str)"
   ]
  },
  {
   "cell_type": "markdown",
   "id": "dadbea4e",
   "metadata": {
    "papermill": {
     "duration": 0.087876,
     "end_time": "2022-04-11T08:04:15.030107",
     "exception": false,
     "start_time": "2022-04-11T08:04:14.942231",
     "status": "completed"
    },
    "tags": []
   },
   "source": [
    "S의 데이터수가 압도적으로 많으므로 NaN값에 S를 써줘도 무방할 것이다."
   ]
  },
  {
   "cell_type": "markdown",
   "id": "666d9f82",
   "metadata": {
    "papermill": {
     "duration": 0.088697,
     "end_time": "2022-04-11T08:04:15.207619",
     "exception": false,
     "start_time": "2022-04-11T08:04:15.118922",
     "status": "completed"
    },
    "tags": []
   },
   "source": [
    "# **Fare(티켓 가격)**"
   ]
  },
  {
   "cell_type": "markdown",
   "id": "036b66df",
   "metadata": {
    "papermill": {
     "duration": 0.087182,
     "end_time": "2022-04-11T08:04:15.383135",
     "exception": false,
     "start_time": "2022-04-11T08:04:15.295953",
     "status": "completed"
    },
    "tags": []
   },
   "source": [
    "만약 티켓 가격이 안 적혀 있을 경우에는 가장 티켓 가격과 밀접한 관계가 있는 Pclass를 활용한다.\n",
    "\n",
    "Fare 데이터가 빠진 값의 Pclass를 가진 사람들의 평균 Fare를 넣어주는 식으로 처리를 해보자."
   ]
  },
  {
   "cell_type": "code",
   "execution_count": 44,
   "id": "da5fb61e",
   "metadata": {
    "execution": {
     "iopub.execute_input": "2022-04-11T08:04:15.561666Z",
     "iopub.status.busy": "2022-04-11T08:04:15.560702Z",
     "iopub.status.idle": "2022-04-11T08:04:15.570362Z",
     "shell.execute_reply": "2022-04-11T08:04:15.571051Z",
     "shell.execute_reply.started": "2022-04-11T07:59:19.671223Z"
    },
    "papermill": {
     "duration": 0.10249,
     "end_time": "2022-04-11T08:04:15.571271",
     "exception": false,
     "start_time": "2022-04-11T08:04:15.468781",
     "status": "completed"
    },
    "tags": []
   },
   "outputs": [
    {
     "name": "stdout",
     "output_type": "stream",
     "text": [
      "   Pclass       Fare\n",
      "0       1  84.154687\n",
      "1       2  20.662183\n",
      "2       3  13.675550\n",
      "\n",
      "152    3\n",
      "Name: Pclass, dtype: int64\n"
     ]
    }
   ],
   "source": [
    "print (train[['Pclass', 'Fare']].groupby(['Pclass'], as_index=False).mean())\n",
    "print(\"\")\n",
    "print(test[test[\"Fare\"].isnull()][\"Pclass\"])"
   ]
  },
  {
   "cell_type": "markdown",
   "id": "f883b295",
   "metadata": {
    "papermill": {
     "duration": 0.086204,
     "end_time": "2022-04-11T08:04:15.747790",
     "exception": false,
     "start_time": "2022-04-11T08:04:15.661586",
     "status": "completed"
    },
    "tags": []
   },
   "source": [
    "위에서 볼 수 있듯이 누락된 데이터의 Pclass는 3이고, train 데이터에서 Pclass가 3인 사람들의 평균 Fare가 13.675550이므로 이 값을 넣어주자."
   ]
  },
  {
   "cell_type": "code",
   "execution_count": 45,
   "id": "d541caf1",
   "metadata": {
    "execution": {
     "iopub.execute_input": "2022-04-11T08:04:15.927321Z",
     "iopub.status.busy": "2022-04-11T08:04:15.926289Z",
     "iopub.status.idle": "2022-04-11T08:04:15.931279Z",
     "shell.execute_reply": "2022-04-11T08:04:15.931733Z",
     "shell.execute_reply.started": "2022-04-11T07:59:19.696089Z"
    },
    "papermill": {
     "duration": 0.097114,
     "end_time": "2022-04-11T08:04:15.931914",
     "exception": false,
     "start_time": "2022-04-11T08:04:15.834800",
     "status": "completed"
    },
    "tags": []
   },
   "outputs": [],
   "source": [
    "for dataset in train_test_data:\n",
    "    dataset['Fare'] = dataset['Fare'].fillna(13.675)"
   ]
  },
  {
   "cell_type": "markdown",
   "id": "f35abcf5",
   "metadata": {
    "papermill": {
     "duration": 0.08929,
     "end_time": "2022-04-11T08:04:16.108999",
     "exception": false,
     "start_time": "2022-04-11T08:04:16.019709",
     "status": "completed"
    },
    "tags": []
   },
   "source": [
    "Age에서 했던 것처럼 Fare에서도 Binning을 해보자. "
   ]
  },
  {
   "cell_type": "code",
   "execution_count": 46,
   "id": "b78d7467",
   "metadata": {
    "execution": {
     "iopub.execute_input": "2022-04-11T08:04:16.287207Z",
     "iopub.status.busy": "2022-04-11T08:04:16.286305Z",
     "iopub.status.idle": "2022-04-11T08:04:16.299332Z",
     "shell.execute_reply": "2022-04-11T08:04:16.299761Z",
     "shell.execute_reply.started": "2022-04-11T07:59:19.712867Z"
    },
    "papermill": {
     "duration": 0.103963,
     "end_time": "2022-04-11T08:04:16.299933",
     "exception": false,
     "start_time": "2022-04-11T08:04:16.195970",
     "status": "completed"
    },
    "tags": []
   },
   "outputs": [],
   "source": [
    "for dataset in train_test_data:\n",
    "    dataset.loc[ dataset['Fare'] <= 7.854, 'Fare'] = 0\n",
    "    dataset.loc[(dataset['Fare'] > 7.854) & (dataset['Fare'] <= 10.5), 'Fare'] = 1\n",
    "    dataset.loc[(dataset['Fare'] > 10.5) & (dataset['Fare'] <= 21.679), 'Fare']   = 2\n",
    "    dataset.loc[(dataset['Fare'] > 21.679) & (dataset['Fare'] <= 39.688), 'Fare']   = 3\n",
    "    dataset.loc[ dataset['Fare'] > 39.688, 'Fare'] = 4\n",
    "    dataset['Fare'] = dataset['Fare'].astype(int)"
   ]
  },
  {
   "cell_type": "markdown",
   "id": "96d1a68c",
   "metadata": {
    "papermill": {
     "duration": 0.088346,
     "end_time": "2022-04-11T08:04:16.475850",
     "exception": false,
     "start_time": "2022-04-11T08:04:16.387504",
     "status": "completed"
    },
    "tags": []
   },
   "source": [
    "# **FamilySize(가족의 크기)**"
   ]
  },
  {
   "cell_type": "code",
   "execution_count": 47,
   "id": "664a9f7e",
   "metadata": {
    "execution": {
     "iopub.execute_input": "2022-04-11T08:04:16.652019Z",
     "iopub.status.busy": "2022-04-11T08:04:16.651068Z",
     "iopub.status.idle": "2022-04-11T08:04:16.667139Z",
     "shell.execute_reply": "2022-04-11T08:04:16.666640Z",
     "shell.execute_reply.started": "2022-04-11T07:59:19.741606Z"
    },
    "papermill": {
     "duration": 0.105605,
     "end_time": "2022-04-11T08:04:16.667276",
     "exception": false,
     "start_time": "2022-04-11T08:04:16.561671",
     "status": "completed"
    },
    "tags": []
   },
   "outputs": [
    {
     "data": {
      "text/html": [
       "<div>\n",
       "<style scoped>\n",
       "    .dataframe tbody tr th:only-of-type {\n",
       "        vertical-align: middle;\n",
       "    }\n",
       "\n",
       "    .dataframe tbody tr th {\n",
       "        vertical-align: top;\n",
       "    }\n",
       "\n",
       "    .dataframe thead th {\n",
       "        text-align: right;\n",
       "    }\n",
       "</style>\n",
       "<table border=\"1\" class=\"dataframe\">\n",
       "  <thead>\n",
       "    <tr style=\"text-align: right;\">\n",
       "      <th></th>\n",
       "      <th>PassengerId</th>\n",
       "      <th>Survived</th>\n",
       "      <th>Pclass</th>\n",
       "      <th>Name</th>\n",
       "      <th>Sex</th>\n",
       "      <th>Age</th>\n",
       "      <th>SibSp</th>\n",
       "      <th>Parch</th>\n",
       "      <th>Ticket</th>\n",
       "      <th>Fare</th>\n",
       "      <th>Cabin</th>\n",
       "      <th>Embarked</th>\n",
       "      <th>Title</th>\n",
       "      <th>AgeBand</th>\n",
       "    </tr>\n",
       "  </thead>\n",
       "  <tbody>\n",
       "    <tr>\n",
       "      <th>0</th>\n",
       "      <td>1</td>\n",
       "      <td>0</td>\n",
       "      <td>3</td>\n",
       "      <td>Braund, Mr. Owen Harris</td>\n",
       "      <td>male</td>\n",
       "      <td>Young</td>\n",
       "      <td>1</td>\n",
       "      <td>0</td>\n",
       "      <td>A/5 21171</td>\n",
       "      <td>0</td>\n",
       "      <td>NaN</td>\n",
       "      <td>S</td>\n",
       "      <td>Mr</td>\n",
       "      <td>(16.0, 32.0]</td>\n",
       "    </tr>\n",
       "    <tr>\n",
       "      <th>1</th>\n",
       "      <td>2</td>\n",
       "      <td>1</td>\n",
       "      <td>1</td>\n",
       "      <td>Cumings, Mrs. John Bradley (Florence Briggs Th...</td>\n",
       "      <td>female</td>\n",
       "      <td>Prime</td>\n",
       "      <td>1</td>\n",
       "      <td>0</td>\n",
       "      <td>PC 17599</td>\n",
       "      <td>4</td>\n",
       "      <td>C85</td>\n",
       "      <td>C</td>\n",
       "      <td>Mrs</td>\n",
       "      <td>(32.0, 48.0]</td>\n",
       "    </tr>\n",
       "    <tr>\n",
       "      <th>2</th>\n",
       "      <td>3</td>\n",
       "      <td>1</td>\n",
       "      <td>3</td>\n",
       "      <td>Heikkinen, Miss. Laina</td>\n",
       "      <td>female</td>\n",
       "      <td>Young</td>\n",
       "      <td>0</td>\n",
       "      <td>0</td>\n",
       "      <td>STON/O2. 3101282</td>\n",
       "      <td>1</td>\n",
       "      <td>NaN</td>\n",
       "      <td>S</td>\n",
       "      <td>Miss</td>\n",
       "      <td>(16.0, 32.0]</td>\n",
       "    </tr>\n",
       "    <tr>\n",
       "      <th>3</th>\n",
       "      <td>4</td>\n",
       "      <td>1</td>\n",
       "      <td>1</td>\n",
       "      <td>Futrelle, Mrs. Jacques Heath (Lily May Peel)</td>\n",
       "      <td>female</td>\n",
       "      <td>Middle</td>\n",
       "      <td>1</td>\n",
       "      <td>0</td>\n",
       "      <td>113803</td>\n",
       "      <td>4</td>\n",
       "      <td>C123</td>\n",
       "      <td>S</td>\n",
       "      <td>Mrs</td>\n",
       "      <td>(32.0, 48.0]</td>\n",
       "    </tr>\n",
       "    <tr>\n",
       "      <th>4</th>\n",
       "      <td>5</td>\n",
       "      <td>0</td>\n",
       "      <td>3</td>\n",
       "      <td>Allen, Mr. William Henry</td>\n",
       "      <td>male</td>\n",
       "      <td>Middle</td>\n",
       "      <td>0</td>\n",
       "      <td>0</td>\n",
       "      <td>373450</td>\n",
       "      <td>1</td>\n",
       "      <td>NaN</td>\n",
       "      <td>S</td>\n",
       "      <td>Mr</td>\n",
       "      <td>(32.0, 48.0]</td>\n",
       "    </tr>\n",
       "  </tbody>\n",
       "</table>\n",
       "</div>"
      ],
      "text/plain": [
       "   PassengerId  Survived  Pclass  \\\n",
       "0            1         0       3   \n",
       "1            2         1       1   \n",
       "2            3         1       3   \n",
       "3            4         1       1   \n",
       "4            5         0       3   \n",
       "\n",
       "                                                Name     Sex     Age  SibSp  \\\n",
       "0                            Braund, Mr. Owen Harris    male   Young      1   \n",
       "1  Cumings, Mrs. John Bradley (Florence Briggs Th...  female   Prime      1   \n",
       "2                             Heikkinen, Miss. Laina  female   Young      0   \n",
       "3       Futrelle, Mrs. Jacques Heath (Lily May Peel)  female  Middle      1   \n",
       "4                           Allen, Mr. William Henry    male  Middle      0   \n",
       "\n",
       "   Parch            Ticket  Fare Cabin Embarked Title       AgeBand  \n",
       "0      0         A/5 21171     0   NaN        S    Mr  (16.0, 32.0]  \n",
       "1      0          PC 17599     4   C85        C   Mrs  (32.0, 48.0]  \n",
       "2      0  STON/O2. 3101282     1   NaN        S  Miss  (16.0, 32.0]  \n",
       "3      0            113803     4  C123        S   Mrs  (32.0, 48.0]  \n",
       "4      0            373450     1   NaN        S    Mr  (32.0, 48.0]  "
      ]
     },
     "execution_count": 47,
     "metadata": {},
     "output_type": "execute_result"
    }
   ],
   "source": [
    "train.head()"
   ]
  },
  {
   "cell_type": "markdown",
   "id": "d67a8517",
   "metadata": {
    "papermill": {
     "duration": 0.086661,
     "end_time": "2022-04-11T08:04:16.842107",
     "exception": false,
     "start_time": "2022-04-11T08:04:16.755446",
     "status": "completed"
    },
    "tags": []
   },
   "source": [
    "함께 동승한 부모님과 아이들의 수와 형제와 배우자의 수의 사망률에 대해 관계가 유사하였고, 궁금한 점은 혼자 탔는지 아니면 함께 탔는지가 궁금하기때문에 SibSb 데이터와 Parch 데이터를 합쳐 하나의 값을 만들었다."
   ]
  },
  {
   "cell_type": "code",
   "execution_count": 48,
   "id": "5e0920c3",
   "metadata": {
    "execution": {
     "iopub.execute_input": "2022-04-11T08:04:17.034600Z",
     "iopub.status.busy": "2022-04-11T08:04:17.033992Z",
     "iopub.status.idle": "2022-04-11T08:04:17.035178Z",
     "shell.execute_reply": "2022-04-11T08:04:17.035713Z",
     "shell.execute_reply.started": "2022-04-11T07:59:19.768540Z"
    },
    "papermill": {
     "duration": 0.105039,
     "end_time": "2022-04-11T08:04:17.035882",
     "exception": false,
     "start_time": "2022-04-11T08:04:16.930843",
     "status": "completed"
    },
    "tags": []
   },
   "outputs": [],
   "source": [
    "for dataset in train_test_data:\n",
    "    dataset[\"Family\"] = dataset[\"Parch\"] + dataset[\"SibSp\"]\n",
    "    dataset['Family'] = dataset['Family'].astype(int)"
   ]
  },
  {
   "cell_type": "markdown",
   "id": "5021add1",
   "metadata": {
    "papermill": {
     "duration": 0.088342,
     "end_time": "2022-04-11T08:04:17.214122",
     "exception": false,
     "start_time": "2022-04-11T08:04:17.125780",
     "status": "completed"
    },
    "tags": []
   },
   "source": [
    "# **Modeling**"
   ]
  },
  {
   "cell_type": "markdown",
   "id": "08dadb4a",
   "metadata": {
    "papermill": {
     "duration": 0.086825,
     "end_time": "2022-04-11T08:04:17.389012",
     "exception": false,
     "start_time": "2022-04-11T08:04:17.302187",
     "status": "completed"
    },
    "tags": []
   },
   "source": [
    "이제 사용할 Feature에 대해서는 전처리가 되었으니, 학습시킬때 제외시킬 Feature들을 Drop 시키자."
   ]
  },
  {
   "cell_type": "markdown",
   "id": "80500b67",
   "metadata": {
    "papermill": {
     "duration": 0.085761,
     "end_time": "2022-04-11T08:04:17.561106",
     "exception": false,
     "start_time": "2022-04-11T08:04:17.475345",
     "status": "completed"
    },
    "tags": []
   },
   "source": [
    "결과값으로 가공처리된 데이터들을 확인할 수 있다."
   ]
  },
  {
   "cell_type": "code",
   "execution_count": 49,
   "id": "eedb58f8",
   "metadata": {
    "execution": {
     "iopub.execute_input": "2022-04-11T08:04:17.739442Z",
     "iopub.status.busy": "2022-04-11T08:04:17.738802Z",
     "iopub.status.idle": "2022-04-11T08:04:17.754711Z",
     "shell.execute_reply": "2022-04-11T08:04:17.754072Z",
     "shell.execute_reply.started": "2022-04-11T07:59:19.782180Z"
    },
    "papermill": {
     "duration": 0.106316,
     "end_time": "2022-04-11T08:04:17.754854",
     "exception": false,
     "start_time": "2022-04-11T08:04:17.648538",
     "status": "completed"
    },
    "tags": []
   },
   "outputs": [
    {
     "name": "stdout",
     "output_type": "stream",
     "text": [
      "   Survived  Pclass     Sex     Age  Fare Embarked Title  Family\n",
      "0         0       3    male   Young     0        S    Mr       1\n",
      "1         1       1  female   Prime     4        C   Mrs       1\n",
      "2         1       3  female   Young     1        S  Miss       0\n",
      "3         1       1  female  Middle     4        S   Mrs       1\n",
      "4         0       3    male  Middle     1        S    Mr       0\n",
      "   PassengerId  Pclass     Sex     Age  Fare Embarked Title  Family\n",
      "0          892       3    male  Middle     0        Q    Mr       0\n",
      "1          893       3  female   Prime     0        S   Mrs       1\n",
      "2          894       2    male   Prime     1        Q    Mr       0\n",
      "3          895       3    male  Middle     1        S    Mr       0\n",
      "4          896       3  female   Young     2        S   Mrs       2\n"
     ]
    }
   ],
   "source": [
    "features_drop = ['Name', 'Ticket', 'Cabin', 'SibSp', 'Parch']\n",
    "train = train.drop(features_drop, axis=1)\n",
    "test = test.drop(features_drop, axis=1)\n",
    "train = train.drop(['PassengerId', 'AgeBand'], axis=1)\n",
    "\n",
    "print(train.head())\n",
    "print(test.head())"
   ]
  },
  {
   "cell_type": "markdown",
   "id": "ef707224",
   "metadata": {
    "papermill": {
     "duration": 0.089957,
     "end_time": "2022-04-11T08:04:17.934773",
     "exception": false,
     "start_time": "2022-04-11T08:04:17.844816",
     "status": "completed"
    },
    "tags": []
   },
   "source": [
    "마지막으로 Categorical Feature에 대해 one-hot encoding과 train data와 label을 분리시키는 작업을 하면 예측 모델에 학습시킬 준비가 끝났다."
   ]
  },
  {
   "cell_type": "code",
   "execution_count": 50,
   "id": "c19f4e56",
   "metadata": {
    "execution": {
     "iopub.execute_input": "2022-04-11T08:04:18.121346Z",
     "iopub.status.busy": "2022-04-11T08:04:18.120133Z",
     "iopub.status.idle": "2022-04-11T08:04:18.132868Z",
     "shell.execute_reply": "2022-04-11T08:04:18.133347Z",
     "shell.execute_reply.started": "2022-04-11T07:59:19.814472Z"
    },
    "papermill": {
     "duration": 0.111346,
     "end_time": "2022-04-11T08:04:18.133531",
     "exception": false,
     "start_time": "2022-04-11T08:04:18.022185",
     "status": "completed"
    },
    "tags": []
   },
   "outputs": [],
   "source": [
    "train = pd.get_dummies(train)\n",
    "test = pd.get_dummies(test)\n",
    "\n",
    "train_label = train['Survived']\n",
    "train_data = train.drop('Survived', axis=1)\n",
    "test_data = test.drop(\"PassengerId\", axis=1).copy()"
   ]
  },
  {
   "cell_type": "markdown",
   "id": "e76a9318",
   "metadata": {
    "papermill": {
     "duration": 0.087888,
     "end_time": "2022-04-11T08:04:18.309274",
     "exception": false,
     "start_time": "2022-04-11T08:04:18.221386",
     "status": "completed"
    },
    "tags": []
   },
   "source": [
    "# ***설계 및 학습***"
   ]
  },
  {
   "cell_type": "code",
   "execution_count": 51,
   "id": "17a04969",
   "metadata": {
    "execution": {
     "iopub.execute_input": "2022-04-11T08:04:18.491058Z",
     "iopub.status.busy": "2022-04-11T08:04:18.490099Z",
     "iopub.status.idle": "2022-04-11T08:04:18.812920Z",
     "shell.execute_reply": "2022-04-11T08:04:18.812385Z",
     "shell.execute_reply.started": "2022-04-11T07:59:19.847193Z"
    },
    "papermill": {
     "duration": 0.414171,
     "end_time": "2022-04-11T08:04:18.813059",
     "exception": false,
     "start_time": "2022-04-11T08:04:18.398888",
     "status": "completed"
    },
    "tags": []
   },
   "outputs": [],
   "source": [
    "from sklearn.linear_model import LogisticRegression\n",
    "from sklearn.svm import SVC\n",
    "from sklearn.neighbors import KNeighborsClassifier\n",
    "from sklearn.ensemble import RandomForestClassifier\n",
    "from sklearn.naive_bayes import GaussianNB\n",
    "\n",
    "from sklearn.utils import shuffle\n",
    "\n",
    "import numpy as np"
   ]
  },
  {
   "cell_type": "markdown",
   "id": "4ff279f0",
   "metadata": {
    "papermill": {
     "duration": 0.089057,
     "end_time": "2022-04-11T08:04:18.992723",
     "exception": false,
     "start_time": "2022-04-11T08:04:18.903666",
     "status": "completed"
    },
    "tags": []
   },
   "source": [
    "데이터가 정렬되어있어 학습에 방해가 될 수도 있으므로 섞어주기"
   ]
  },
  {
   "cell_type": "code",
   "execution_count": 52,
   "id": "6d70477f",
   "metadata": {
    "execution": {
     "iopub.execute_input": "2022-04-11T08:04:19.174248Z",
     "iopub.status.busy": "2022-04-11T08:04:19.173430Z",
     "iopub.status.idle": "2022-04-11T08:04:19.178268Z",
     "shell.execute_reply": "2022-04-11T08:04:19.178792Z",
     "shell.execute_reply.started": "2022-04-11T07:59:19.856622Z"
    },
    "papermill": {
     "duration": 0.095565,
     "end_time": "2022-04-11T08:04:19.178958",
     "exception": false,
     "start_time": "2022-04-11T08:04:19.083393",
     "status": "completed"
    },
    "tags": []
   },
   "outputs": [],
   "source": [
    "train_data, train_label = shuffle(train_data, train_label, random_state = 5)"
   ]
  },
  {
   "cell_type": "markdown",
   "id": "8b5bbfa4",
   "metadata": {
    "papermill": {
     "duration": 0.087306,
     "end_time": "2022-04-11T08:04:19.355778",
     "exception": false,
     "start_time": "2022-04-11T08:04:19.268472",
     "status": "completed"
    },
    "tags": []
   },
   "source": [
    "모델 학습과 평가에 대한 pipeline을 만들자.\n",
    "\n",
    " fit()과 predict()를 사용하면 매우 간단하게 학습과 예측을 할 수 있어서 그냥 하나의 함수만 만들면 편하게 사용가능하다."
   ]
  },
  {
   "cell_type": "code",
   "execution_count": 53,
   "id": "04b22efa",
   "metadata": {
    "execution": {
     "iopub.execute_input": "2022-04-11T08:04:19.534070Z",
     "iopub.status.busy": "2022-04-11T08:04:19.533443Z",
     "iopub.status.idle": "2022-04-11T08:04:19.537691Z",
     "shell.execute_reply": "2022-04-11T08:04:19.538167Z",
     "shell.execute_reply.started": "2022-04-11T07:59:19.878524Z"
    },
    "papermill": {
     "duration": 0.094531,
     "end_time": "2022-04-11T08:04:19.538374",
     "exception": false,
     "start_time": "2022-04-11T08:04:19.443843",
     "status": "completed"
    },
    "tags": []
   },
   "outputs": [],
   "source": [
    "def train_test_data(model):\n",
    "    model.fit(train_data, train_label)\n",
    "    prediction = model.predict(test_data)\n",
    "    accuracy = round(model.score(train_data, train_label) * 100, 2)\n",
    "    print(\"Accuracy : \", accuracy, \"%\")\n",
    "    return prediction"
   ]
  },
  {
   "cell_type": "code",
   "execution_count": 54,
   "id": "58581ec5",
   "metadata": {
    "execution": {
     "iopub.execute_input": "2022-04-11T08:04:19.719871Z",
     "iopub.status.busy": "2022-04-11T08:04:19.719211Z",
     "iopub.status.idle": "2022-04-11T08:04:20.278609Z",
     "shell.execute_reply": "2022-04-11T08:04:20.279091Z",
     "shell.execute_reply.started": "2022-04-11T08:00:35.908013Z"
    },
    "papermill": {
     "duration": 0.65225,
     "end_time": "2022-04-11T08:04:20.279272",
     "exception": false,
     "start_time": "2022-04-11T08:04:19.627022",
     "status": "completed"
    },
    "tags": []
   },
   "outputs": [
    {
     "name": "stdout",
     "output_type": "stream",
     "text": [
      "Accuracy :  82.94 %\n",
      "Accuracy :  83.61 %\n",
      "Accuracy :  84.62 %\n",
      "Accuracy :  89.23 %\n",
      "Accuracy :  79.57 %\n"
     ]
    }
   ],
   "source": [
    "# Logistic Regression\n",
    "log_pred = train_test_data(LogisticRegression())\n",
    "# SVM\n",
    "svm_pred = train_test_data(SVC())\n",
    "#kNN\n",
    "knn_pred_4 = train_test_data(KNeighborsClassifier(n_neighbors = 4))\n",
    "# Random Forest\n",
    "rf_pred = train_test_data(RandomForestClassifier(n_estimators=100))\n",
    "# Navie Bayes\n",
    "nb_pred = train_test_data(GaussianNB())"
   ]
  },
  {
   "cell_type": "markdown",
   "id": "aa20873d",
   "metadata": {
    "papermill": {
     "duration": 0.088255,
     "end_time": "2022-04-11T08:04:20.458351",
     "exception": false,
     "start_time": "2022-04-11T08:04:20.370096",
     "status": "completed"
    },
    "tags": []
   },
   "source": [
    "나이브 베이즈라고 불리는 분류기로 베이즈 정리에 기반한 통계적 분류 기법으로 가장 단순한 지도 학습이다."
   ]
  },
  {
   "cell_type": "markdown",
   "id": "09ee29e7",
   "metadata": {
    "papermill": {
     "duration": 0.090828,
     "end_time": "2022-04-11T08:04:20.637933",
     "exception": false,
     "start_time": "2022-04-11T08:04:20.547105",
     "status": "completed"
    },
    "tags": []
   },
   "source": [
    "randomforest가 가장 높은 점수를 냈으니 캐글에 randomforest로 테스트를 진행한다."
   ]
  },
  {
   "cell_type": "markdown",
   "id": "6c600d22",
   "metadata": {
    "papermill": {
     "duration": 0.089578,
     "end_time": "2022-04-11T08:04:20.817980",
     "exception": false,
     "start_time": "2022-04-11T08:04:20.728402",
     "status": "completed"
    },
    "tags": []
   },
   "source": [
    "# **Testing**"
   ]
  },
  {
   "cell_type": "code",
   "execution_count": 55,
   "id": "603a69b0",
   "metadata": {
    "execution": {
     "iopub.execute_input": "2022-04-11T08:04:21.001718Z",
     "iopub.status.busy": "2022-04-11T08:04:20.998749Z",
     "iopub.status.idle": "2022-04-11T08:04:21.007607Z",
     "shell.execute_reply": "2022-04-11T08:04:21.008083Z",
     "shell.execute_reply.started": "2022-04-11T08:02:34.851192Z"
    },
    "papermill": {
     "duration": 0.100684,
     "end_time": "2022-04-11T08:04:21.008263",
     "exception": false,
     "start_time": "2022-04-11T08:04:20.907579",
     "status": "completed"
    },
    "tags": []
   },
   "outputs": [],
   "source": [
    "submission = pd.DataFrame({\n",
    "    \"PassengerId\": test[\"PassengerId\"],\n",
    "    \"Survived\": rf_pred\n",
    "})\n",
    "\n",
    "submission.to_csv('submission_rf.csv', index=False) #csv로 바꿔야 캐글에 제출가능"
   ]
  }
 ],
 "metadata": {
  "kernelspec": {
   "display_name": "Python 3",
   "language": "python",
   "name": "python3"
  },
  "language_info": {
   "codemirror_mode": {
    "name": "ipython",
    "version": 3
   },
   "file_extension": ".py",
   "mimetype": "text/x-python",
   "name": "python",
   "nbconvert_exporter": "python",
   "pygments_lexer": "ipython3",
   "version": "3.7.12"
  },
  "papermill": {
   "default_parameters": {},
   "duration": 34.791619,
   "end_time": "2022-04-11T08:04:21.806730",
   "environment_variables": {},
   "exception": null,
   "input_path": "__notebook__.ipynb",
   "output_path": "__notebook__.ipynb",
   "parameters": {},
   "start_time": "2022-04-11T08:03:47.015111",
   "version": "2.3.3"
  }
 },
 "nbformat": 4,
 "nbformat_minor": 5
}
